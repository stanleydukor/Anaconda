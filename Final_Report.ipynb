{
  "nbformat": 4,
  "nbformat_minor": 0,
  "metadata": {
    "colab": {
      "name": "Final Report.ipynb",
      "provenance": [],
      "collapsed_sections": [],
      "include_colab_link": true
    },
    "kernelspec": {
      "name": "python3",
      "display_name": "Python 3"
    },
    "accelerator": "GPU"
  },
  "cells": [
    {
      "cell_type": "markdown",
      "metadata": {
        "id": "view-in-github",
        "colab_type": "text"
      },
      "source": [
        "<a href=\"https://colab.research.google.com/github/stanleydukor/Anaconda/blob/master/Final_Report.ipynb\" target=\"_parent\"><img src=\"https://colab.research.google.com/assets/colab-badge.svg\" alt=\"Open In Colab\"/></a>"
      ]
    },
    {
      "cell_type": "markdown",
      "metadata": {
        "id": "_E7ZKF4SMlsL",
        "colab_type": "text"
      },
      "source": [
        "# Predicting Mortgage Approvals From Government Data\n",
        "## Executive Summary\n",
        "The culminating task for the Microsoft Professional Program in Data Science was to use data adapted from the Federal Financial Institutions Examination Council's (FFIEC) to build a machine learning model able to predict whether a mortgage application was accepted or denied.\n",
        "\n",
        "This report will review data exploration that was done to examine the relationship between features that were available in the data using descriptive statstics and data visualization. These finding lead us to know what to exclude from the model as well as suggested what would likely help us predict whether a mortgage application was accepted or denied.\n",
        "\n",
        "The best model was able to achieve a classification rate of 0.7155 on the test set hosted on DrivenData, and was an ensemble of four classification models, XGBoost, Gradient Boost, Adaboost and Random Forest classifiers.\n",
        "\n",
        "## Exploring the Available Data\n",
        "The entire game of modeling is based on the idea that there is information hidden in our data, and that these patterns can be figured out. However when we are given a number of different variables, a first important task is get a sense of which variables might have the most information about how to distinguish between the target classes. To this end data visualization is a very helpful tool in identifying which variables have the most visible trends with our target."
      ]
    },
    {
      "cell_type": "code",
      "metadata": {
        "id": "GQV2WuxeCn9O",
        "colab_type": "code",
        "colab": {}
      },
      "source": [
        "# These are our main data structures\n",
        "import pandas as pd \n",
        "import numpy as np                     # For mathematical calculations \n",
        "import seaborn as sns                  # For data visualization \n",
        "import matplotlib.pyplot as plt        # For plotting graphs \n",
        "%matplotlib inline \n",
        "import warnings                        # To ignore any warnings warnings.filterwarnings(\"ignore\")"
      ],
      "execution_count": 0,
      "outputs": []
    },
    {
      "cell_type": "code",
      "metadata": {
        "id": "wg5XqENtC42o",
        "colab_type": "code",
        "colab": {}
      },
      "source": [
        "# Import csv files and load into pandas dataframe\n",
        "train_values = pd.read_csv(\"train_values.csv\")\n",
        "train_labels = pd.read_csv(\"train_labels.csv\")\n",
        "test_values = pd.read_csv(\"test_values.csv\")\n",
        "submission_format = pd.read_csv(\"submission_format.csv\")"
      ],
      "execution_count": 0,
      "outputs": []
    },
    {
      "cell_type": "markdown",
      "metadata": {
        "id": "kfvbCsd7kTtZ",
        "colab_type": "text"
      },
      "source": [
        "With the data loaded, we can view some quick and basic information about out data"
      ]
    },
    {
      "cell_type": "code",
      "metadata": {
        "id": "4ZeqwRGXDlmJ",
        "colab_type": "code",
        "outputId": "01212a49-4fc6-45d9-8829-f612d7dc34e5",
        "colab": {
          "base_uri": "https://localhost:8080/",
          "height": 232
        }
      },
      "source": [
        "train_values.head()"
      ],
      "execution_count": 0,
      "outputs": [
        {
          "output_type": "execute_result",
          "data": {
            "text/html": [
              "<div>\n",
              "<style scoped>\n",
              "    .dataframe tbody tr th:only-of-type {\n",
              "        vertical-align: middle;\n",
              "    }\n",
              "\n",
              "    .dataframe tbody tr th {\n",
              "        vertical-align: top;\n",
              "    }\n",
              "\n",
              "    .dataframe thead th {\n",
              "        text-align: right;\n",
              "    }\n",
              "</style>\n",
              "<table border=\"1\" class=\"dataframe\">\n",
              "  <thead>\n",
              "    <tr style=\"text-align: right;\">\n",
              "      <th></th>\n",
              "      <th>row_id</th>\n",
              "      <th>loan_type</th>\n",
              "      <th>property_type</th>\n",
              "      <th>loan_purpose</th>\n",
              "      <th>occupancy</th>\n",
              "      <th>loan_amount</th>\n",
              "      <th>preapproval</th>\n",
              "      <th>msa_md</th>\n",
              "      <th>state_code</th>\n",
              "      <th>county_code</th>\n",
              "      <th>applicant_ethnicity</th>\n",
              "      <th>applicant_race</th>\n",
              "      <th>applicant_sex</th>\n",
              "      <th>applicant_income</th>\n",
              "      <th>population</th>\n",
              "      <th>minority_population_pct</th>\n",
              "      <th>ffiecmedian_family_income</th>\n",
              "      <th>tract_to_msa_md_income_pct</th>\n",
              "      <th>number_of_owner-occupied_units</th>\n",
              "      <th>number_of_1_to_4_family_units</th>\n",
              "      <th>lender</th>\n",
              "      <th>co_applicant</th>\n",
              "    </tr>\n",
              "  </thead>\n",
              "  <tbody>\n",
              "    <tr>\n",
              "      <th>0</th>\n",
              "      <td>0</td>\n",
              "      <td>3</td>\n",
              "      <td>1</td>\n",
              "      <td>1</td>\n",
              "      <td>1</td>\n",
              "      <td>70.0</td>\n",
              "      <td>3</td>\n",
              "      <td>18</td>\n",
              "      <td>37</td>\n",
              "      <td>246</td>\n",
              "      <td>2</td>\n",
              "      <td>5</td>\n",
              "      <td>1</td>\n",
              "      <td>24.0</td>\n",
              "      <td>6203.0</td>\n",
              "      <td>44.230</td>\n",
              "      <td>60588.0</td>\n",
              "      <td>50.933</td>\n",
              "      <td>716.0</td>\n",
              "      <td>2642.0</td>\n",
              "      <td>4536</td>\n",
              "      <td>False</td>\n",
              "    </tr>\n",
              "    <tr>\n",
              "      <th>1</th>\n",
              "      <td>1</td>\n",
              "      <td>1</td>\n",
              "      <td>1</td>\n",
              "      <td>3</td>\n",
              "      <td>1</td>\n",
              "      <td>178.0</td>\n",
              "      <td>3</td>\n",
              "      <td>369</td>\n",
              "      <td>52</td>\n",
              "      <td>299</td>\n",
              "      <td>1</td>\n",
              "      <td>5</td>\n",
              "      <td>1</td>\n",
              "      <td>57.0</td>\n",
              "      <td>5774.0</td>\n",
              "      <td>15.905</td>\n",
              "      <td>54821.0</td>\n",
              "      <td>100.000</td>\n",
              "      <td>1622.0</td>\n",
              "      <td>2108.0</td>\n",
              "      <td>2458</td>\n",
              "      <td>False</td>\n",
              "    </tr>\n",
              "    <tr>\n",
              "      <th>2</th>\n",
              "      <td>2</td>\n",
              "      <td>2</td>\n",
              "      <td>1</td>\n",
              "      <td>3</td>\n",
              "      <td>1</td>\n",
              "      <td>163.0</td>\n",
              "      <td>3</td>\n",
              "      <td>16</td>\n",
              "      <td>10</td>\n",
              "      <td>306</td>\n",
              "      <td>2</td>\n",
              "      <td>5</td>\n",
              "      <td>1</td>\n",
              "      <td>67.0</td>\n",
              "      <td>6094.0</td>\n",
              "      <td>61.270</td>\n",
              "      <td>67719.0</td>\n",
              "      <td>100.000</td>\n",
              "      <td>760.0</td>\n",
              "      <td>1048.0</td>\n",
              "      <td>5710</td>\n",
              "      <td>False</td>\n",
              "    </tr>\n",
              "    <tr>\n",
              "      <th>3</th>\n",
              "      <td>3</td>\n",
              "      <td>1</td>\n",
              "      <td>1</td>\n",
              "      <td>1</td>\n",
              "      <td>1</td>\n",
              "      <td>155.0</td>\n",
              "      <td>1</td>\n",
              "      <td>305</td>\n",
              "      <td>47</td>\n",
              "      <td>180</td>\n",
              "      <td>2</td>\n",
              "      <td>5</td>\n",
              "      <td>1</td>\n",
              "      <td>105.0</td>\n",
              "      <td>6667.0</td>\n",
              "      <td>6.246</td>\n",
              "      <td>78439.0</td>\n",
              "      <td>100.000</td>\n",
              "      <td>2025.0</td>\n",
              "      <td>2299.0</td>\n",
              "      <td>5888</td>\n",
              "      <td>True</td>\n",
              "    </tr>\n",
              "    <tr>\n",
              "      <th>4</th>\n",
              "      <td>4</td>\n",
              "      <td>1</td>\n",
              "      <td>1</td>\n",
              "      <td>1</td>\n",
              "      <td>1</td>\n",
              "      <td>305.0</td>\n",
              "      <td>3</td>\n",
              "      <td>24</td>\n",
              "      <td>37</td>\n",
              "      <td>20</td>\n",
              "      <td>2</td>\n",
              "      <td>3</td>\n",
              "      <td>2</td>\n",
              "      <td>71.0</td>\n",
              "      <td>6732.0</td>\n",
              "      <td>100.000</td>\n",
              "      <td>63075.0</td>\n",
              "      <td>82.200</td>\n",
              "      <td>1464.0</td>\n",
              "      <td>1847.0</td>\n",
              "      <td>289</td>\n",
              "      <td>False</td>\n",
              "    </tr>\n",
              "  </tbody>\n",
              "</table>\n",
              "</div>"
            ],
            "text/plain": [
              "   row_id  loan_type  ...  lender  co_applicant\n",
              "0       0          3  ...    4536         False\n",
              "1       1          1  ...    2458         False\n",
              "2       2          2  ...    5710         False\n",
              "3       3          1  ...    5888          True\n",
              "4       4          1  ...     289         False\n",
              "\n",
              "[5 rows x 22 columns]"
            ]
          },
          "metadata": {
            "tags": []
          },
          "execution_count": 6
        }
      ]
    },
    {
      "cell_type": "code",
      "metadata": {
        "id": "0rKSuxIqkbH0",
        "colab_type": "code",
        "outputId": "fab88290-4183-4382-bb29-4593df8930da",
        "colab": {
          "base_uri": "https://localhost:8080/",
          "height": 702
        }
      },
      "source": [
        "print(f\"The training data set has {train_values.shape[0]} records and {train_values.shape[1]} columns\")\n",
        "print(\"Descriptive stats are easily available for numeric variables.\")\n",
        "train_values.describe().T"
      ],
      "execution_count": 0,
      "outputs": [
        {
          "output_type": "stream",
          "text": [
            "The training data set has 500000 records and 22 columns\n",
            "Descriptive stats are easily available for numeric variables.\n"
          ],
          "name": "stdout"
        },
        {
          "output_type": "execute_result",
          "data": {
            "text/html": [
              "<div>\n",
              "<style scoped>\n",
              "    .dataframe tbody tr th:only-of-type {\n",
              "        vertical-align: middle;\n",
              "    }\n",
              "\n",
              "    .dataframe tbody tr th {\n",
              "        vertical-align: top;\n",
              "    }\n",
              "\n",
              "    .dataframe thead th {\n",
              "        text-align: right;\n",
              "    }\n",
              "</style>\n",
              "<table border=\"1\" class=\"dataframe\">\n",
              "  <thead>\n",
              "    <tr style=\"text-align: right;\">\n",
              "      <th></th>\n",
              "      <th>count</th>\n",
              "      <th>mean</th>\n",
              "      <th>std</th>\n",
              "      <th>min</th>\n",
              "      <th>25%</th>\n",
              "      <th>50%</th>\n",
              "      <th>75%</th>\n",
              "      <th>max</th>\n",
              "    </tr>\n",
              "  </thead>\n",
              "  <tbody>\n",
              "    <tr>\n",
              "      <th>row_id</th>\n",
              "      <td>500000.0</td>\n",
              "      <td>249999.500000</td>\n",
              "      <td>144337.711634</td>\n",
              "      <td>0.000</td>\n",
              "      <td>124999.75000</td>\n",
              "      <td>249999.500</td>\n",
              "      <td>374999.25</td>\n",
              "      <td>499999.0</td>\n",
              "    </tr>\n",
              "    <tr>\n",
              "      <th>loan_type</th>\n",
              "      <td>500000.0</td>\n",
              "      <td>1.366276</td>\n",
              "      <td>0.690555</td>\n",
              "      <td>1.000</td>\n",
              "      <td>1.00000</td>\n",
              "      <td>1.000</td>\n",
              "      <td>2.00</td>\n",
              "      <td>4.0</td>\n",
              "    </tr>\n",
              "    <tr>\n",
              "      <th>property_type</th>\n",
              "      <td>500000.0</td>\n",
              "      <td>1.047650</td>\n",
              "      <td>0.231404</td>\n",
              "      <td>1.000</td>\n",
              "      <td>1.00000</td>\n",
              "      <td>1.000</td>\n",
              "      <td>1.00</td>\n",
              "      <td>3.0</td>\n",
              "    </tr>\n",
              "    <tr>\n",
              "      <th>loan_purpose</th>\n",
              "      <td>500000.0</td>\n",
              "      <td>2.066810</td>\n",
              "      <td>0.948371</td>\n",
              "      <td>1.000</td>\n",
              "      <td>1.00000</td>\n",
              "      <td>2.000</td>\n",
              "      <td>3.00</td>\n",
              "      <td>3.0</td>\n",
              "    </tr>\n",
              "    <tr>\n",
              "      <th>occupancy</th>\n",
              "      <td>500000.0</td>\n",
              "      <td>1.109590</td>\n",
              "      <td>0.326092</td>\n",
              "      <td>1.000</td>\n",
              "      <td>1.00000</td>\n",
              "      <td>1.000</td>\n",
              "      <td>1.00</td>\n",
              "      <td>3.0</td>\n",
              "    </tr>\n",
              "    <tr>\n",
              "      <th>loan_amount</th>\n",
              "      <td>500000.0</td>\n",
              "      <td>221.753158</td>\n",
              "      <td>590.641648</td>\n",
              "      <td>1.000</td>\n",
              "      <td>93.00000</td>\n",
              "      <td>162.000</td>\n",
              "      <td>266.00</td>\n",
              "      <td>100878.0</td>\n",
              "    </tr>\n",
              "    <tr>\n",
              "      <th>preapproval</th>\n",
              "      <td>500000.0</td>\n",
              "      <td>2.764722</td>\n",
              "      <td>0.543061</td>\n",
              "      <td>1.000</td>\n",
              "      <td>3.00000</td>\n",
              "      <td>3.000</td>\n",
              "      <td>3.00</td>\n",
              "      <td>3.0</td>\n",
              "    </tr>\n",
              "    <tr>\n",
              "      <th>msa_md</th>\n",
              "      <td>500000.0</td>\n",
              "      <td>181.606972</td>\n",
              "      <td>138.464169</td>\n",
              "      <td>-1.000</td>\n",
              "      <td>25.00000</td>\n",
              "      <td>192.000</td>\n",
              "      <td>314.00</td>\n",
              "      <td>408.0</td>\n",
              "    </tr>\n",
              "    <tr>\n",
              "      <th>state_code</th>\n",
              "      <td>500000.0</td>\n",
              "      <td>23.726924</td>\n",
              "      <td>15.982768</td>\n",
              "      <td>-1.000</td>\n",
              "      <td>6.00000</td>\n",
              "      <td>26.000</td>\n",
              "      <td>37.00</td>\n",
              "      <td>52.0</td>\n",
              "    </tr>\n",
              "    <tr>\n",
              "      <th>county_code</th>\n",
              "      <td>500000.0</td>\n",
              "      <td>144.542062</td>\n",
              "      <td>100.243612</td>\n",
              "      <td>-1.000</td>\n",
              "      <td>57.00000</td>\n",
              "      <td>131.000</td>\n",
              "      <td>246.00</td>\n",
              "      <td>324.0</td>\n",
              "    </tr>\n",
              "    <tr>\n",
              "      <th>applicant_ethnicity</th>\n",
              "      <td>500000.0</td>\n",
              "      <td>2.036228</td>\n",
              "      <td>0.511351</td>\n",
              "      <td>1.000</td>\n",
              "      <td>2.00000</td>\n",
              "      <td>2.000</td>\n",
              "      <td>2.00</td>\n",
              "      <td>4.0</td>\n",
              "    </tr>\n",
              "    <tr>\n",
              "      <th>applicant_race</th>\n",
              "      <td>500000.0</td>\n",
              "      <td>4.786586</td>\n",
              "      <td>1.024927</td>\n",
              "      <td>1.000</td>\n",
              "      <td>5.00000</td>\n",
              "      <td>5.000</td>\n",
              "      <td>5.00</td>\n",
              "      <td>7.0</td>\n",
              "    </tr>\n",
              "    <tr>\n",
              "      <th>applicant_sex</th>\n",
              "      <td>500000.0</td>\n",
              "      <td>1.462374</td>\n",
              "      <td>0.677685</td>\n",
              "      <td>1.000</td>\n",
              "      <td>1.00000</td>\n",
              "      <td>1.000</td>\n",
              "      <td>2.00</td>\n",
              "      <td>4.0</td>\n",
              "    </tr>\n",
              "    <tr>\n",
              "      <th>applicant_income</th>\n",
              "      <td>460052.0</td>\n",
              "      <td>102.389521</td>\n",
              "      <td>153.534496</td>\n",
              "      <td>1.000</td>\n",
              "      <td>47.00000</td>\n",
              "      <td>74.000</td>\n",
              "      <td>117.00</td>\n",
              "      <td>10139.0</td>\n",
              "    </tr>\n",
              "    <tr>\n",
              "      <th>population</th>\n",
              "      <td>477535.0</td>\n",
              "      <td>5416.833956</td>\n",
              "      <td>2728.144999</td>\n",
              "      <td>14.000</td>\n",
              "      <td>3744.00000</td>\n",
              "      <td>4975.000</td>\n",
              "      <td>6467.00</td>\n",
              "      <td>37097.0</td>\n",
              "    </tr>\n",
              "    <tr>\n",
              "      <th>minority_population_pct</th>\n",
              "      <td>477534.0</td>\n",
              "      <td>31.617310</td>\n",
              "      <td>26.333938</td>\n",
              "      <td>0.534</td>\n",
              "      <td>10.70000</td>\n",
              "      <td>22.901</td>\n",
              "      <td>46.02</td>\n",
              "      <td>100.0</td>\n",
              "    </tr>\n",
              "    <tr>\n",
              "      <th>ffiecmedian_family_income</th>\n",
              "      <td>477560.0</td>\n",
              "      <td>69235.603298</td>\n",
              "      <td>14810.058791</td>\n",
              "      <td>17858.000</td>\n",
              "      <td>59731.00000</td>\n",
              "      <td>67526.000</td>\n",
              "      <td>75351.00</td>\n",
              "      <td>125248.0</td>\n",
              "    </tr>\n",
              "    <tr>\n",
              "      <th>tract_to_msa_md_income_pct</th>\n",
              "      <td>477486.0</td>\n",
              "      <td>91.832624</td>\n",
              "      <td>14.210924</td>\n",
              "      <td>3.981</td>\n",
              "      <td>88.06725</td>\n",
              "      <td>100.000</td>\n",
              "      <td>100.00</td>\n",
              "      <td>100.0</td>\n",
              "    </tr>\n",
              "    <tr>\n",
              "      <th>number_of_owner-occupied_units</th>\n",
              "      <td>477435.0</td>\n",
              "      <td>1427.718282</td>\n",
              "      <td>737.559511</td>\n",
              "      <td>4.000</td>\n",
              "      <td>944.00000</td>\n",
              "      <td>1327.000</td>\n",
              "      <td>1780.00</td>\n",
              "      <td>8771.0</td>\n",
              "    </tr>\n",
              "    <tr>\n",
              "      <th>number_of_1_to_4_family_units</th>\n",
              "      <td>477470.0</td>\n",
              "      <td>1886.147065</td>\n",
              "      <td>914.123744</td>\n",
              "      <td>1.000</td>\n",
              "      <td>1301.00000</td>\n",
              "      <td>1753.000</td>\n",
              "      <td>2309.00</td>\n",
              "      <td>13623.0</td>\n",
              "    </tr>\n",
              "    <tr>\n",
              "      <th>lender</th>\n",
              "      <td>500000.0</td>\n",
              "      <td>3720.121344</td>\n",
              "      <td>1838.313175</td>\n",
              "      <td>0.000</td>\n",
              "      <td>2442.00000</td>\n",
              "      <td>3731.000</td>\n",
              "      <td>5436.00</td>\n",
              "      <td>6508.0</td>\n",
              "    </tr>\n",
              "  </tbody>\n",
              "</table>\n",
              "</div>"
            ],
            "text/plain": [
              "                                   count           mean  ...        75%       max\n",
              "row_id                          500000.0  249999.500000  ...  374999.25  499999.0\n",
              "loan_type                       500000.0       1.366276  ...       2.00       4.0\n",
              "property_type                   500000.0       1.047650  ...       1.00       3.0\n",
              "loan_purpose                    500000.0       2.066810  ...       3.00       3.0\n",
              "occupancy                       500000.0       1.109590  ...       1.00       3.0\n",
              "loan_amount                     500000.0     221.753158  ...     266.00  100878.0\n",
              "preapproval                     500000.0       2.764722  ...       3.00       3.0\n",
              "msa_md                          500000.0     181.606972  ...     314.00     408.0\n",
              "state_code                      500000.0      23.726924  ...      37.00      52.0\n",
              "county_code                     500000.0     144.542062  ...     246.00     324.0\n",
              "applicant_ethnicity             500000.0       2.036228  ...       2.00       4.0\n",
              "applicant_race                  500000.0       4.786586  ...       5.00       7.0\n",
              "applicant_sex                   500000.0       1.462374  ...       2.00       4.0\n",
              "applicant_income                460052.0     102.389521  ...     117.00   10139.0\n",
              "population                      477535.0    5416.833956  ...    6467.00   37097.0\n",
              "minority_population_pct         477534.0      31.617310  ...      46.02     100.0\n",
              "ffiecmedian_family_income       477560.0   69235.603298  ...   75351.00  125248.0\n",
              "tract_to_msa_md_income_pct      477486.0      91.832624  ...     100.00     100.0\n",
              "number_of_owner-occupied_units  477435.0    1427.718282  ...    1780.00    8771.0\n",
              "number_of_1_to_4_family_units   477470.0    1886.147065  ...    2309.00   13623.0\n",
              "lender                          500000.0    3720.121344  ...    5436.00    6508.0\n",
              "\n",
              "[21 rows x 8 columns]"
            ]
          },
          "metadata": {
            "tags": []
          },
          "execution_count": 8
        }
      ]
    },
    {
      "cell_type": "code",
      "metadata": {
        "id": "fcbnIpHmDwBr",
        "colab_type": "code",
        "outputId": "16f6ad4f-3402-44bf-d4bd-01643dea30a6",
        "colab": {
          "base_uri": "https://localhost:8080/",
          "height": 195
        }
      },
      "source": [
        "train_labels.head()"
      ],
      "execution_count": 0,
      "outputs": [
        {
          "output_type": "execute_result",
          "data": {
            "text/html": [
              "<div>\n",
              "<style scoped>\n",
              "    .dataframe tbody tr th:only-of-type {\n",
              "        vertical-align: middle;\n",
              "    }\n",
              "\n",
              "    .dataframe tbody tr th {\n",
              "        vertical-align: top;\n",
              "    }\n",
              "\n",
              "    .dataframe thead th {\n",
              "        text-align: right;\n",
              "    }\n",
              "</style>\n",
              "<table border=\"1\" class=\"dataframe\">\n",
              "  <thead>\n",
              "    <tr style=\"text-align: right;\">\n",
              "      <th></th>\n",
              "      <th>row_id</th>\n",
              "      <th>accepted</th>\n",
              "    </tr>\n",
              "  </thead>\n",
              "  <tbody>\n",
              "    <tr>\n",
              "      <th>0</th>\n",
              "      <td>0</td>\n",
              "      <td>1</td>\n",
              "    </tr>\n",
              "    <tr>\n",
              "      <th>1</th>\n",
              "      <td>1</td>\n",
              "      <td>0</td>\n",
              "    </tr>\n",
              "    <tr>\n",
              "      <th>2</th>\n",
              "      <td>2</td>\n",
              "      <td>1</td>\n",
              "    </tr>\n",
              "    <tr>\n",
              "      <th>3</th>\n",
              "      <td>3</td>\n",
              "      <td>1</td>\n",
              "    </tr>\n",
              "    <tr>\n",
              "      <th>4</th>\n",
              "      <td>4</td>\n",
              "      <td>1</td>\n",
              "    </tr>\n",
              "  </tbody>\n",
              "</table>\n",
              "</div>"
            ],
            "text/plain": [
              "   row_id  accepted\n",
              "0       0         1\n",
              "1       1         0\n",
              "2       2         1\n",
              "3       3         1\n",
              "4       4         1"
            ]
          },
          "metadata": {
            "tags": []
          },
          "execution_count": 9
        }
      ]
    },
    {
      "cell_type": "markdown",
      "metadata": {
        "colab_type": "text",
        "id": "kt9wHUCmleOd"
      },
      "source": [
        "## Data Exploration"
      ]
    },
    {
      "cell_type": "markdown",
      "metadata": {
        "id": "4C6Fwh0elgNT",
        "colab_type": "text"
      },
      "source": [
        "These explorations and analysis show how the answers to Challenge 1 were gotten."
      ]
    },
    {
      "cell_type": "code",
      "metadata": {
        "colab_type": "code",
        "outputId": "edc8480f-1b2a-45a4-f22d-8d92d14c212e",
        "id": "cXqJGI0LleOb",
        "colab": {
          "base_uri": "https://localhost:8080/",
          "height": 34
        }
      },
      "source": [
        "train_values.loan_amount.std()"
      ],
      "execution_count": 0,
      "outputs": [
        {
          "output_type": "execute_result",
          "data": {
            "text/plain": [
              "590.6416481879309"
            ]
          },
          "metadata": {
            "tags": []
          },
          "execution_count": 11
        }
      ]
    },
    {
      "cell_type": "code",
      "metadata": {
        "colab_type": "code",
        "outputId": "4a3a5462-6e26-465b-90d1-5a96e5302903",
        "id": "i0ZbV46tleOY",
        "colab": {
          "base_uri": "https://localhost:8080/",
          "height": 269
        }
      },
      "source": [
        "import matplotlib.pyplot as plt\n",
        "import numpy as np\n",
        "%matplotlib inline\n",
        "\n",
        "vals = np.size(train_values['loan_amount'].unique()) # to determine the numberof bins\n",
        "plt.hist(train_values['loan_amount'], bins=vals, color='#3F5D7D')\n",
        "axes = plt.gca()\n",
        "axes.set_xlim([0,1600])\n",
        "axes.set_ylim([0,60000])\n",
        "plt.show()"
      ],
      "execution_count": 0,
      "outputs": [
        {
          "output_type": "display_data",
          "data": {
            "image/png": "[encoded data removed]",
            "text/plain": [
              "<Figure size 432x288 with 1 Axes>"
            ]
          },
          "metadata": {
            "tags": []
          }
        }
      ]
    },
    {
      "cell_type": "code",
      "metadata": {
        "colab_type": "code",
        "outputId": "c3a36be3-3c0c-465c-da84-c99b35f57761",
        "id": "RyxXNZw4leOU",
        "colab": {
          "base_uri": "https://localhost:8080/",
          "height": 34
        }
      },
      "source": [
        "len(train_values)"
      ],
      "execution_count": 0,
      "outputs": [
        {
          "output_type": "execute_result",
          "data": {
            "text/plain": [
              "500000"
            ]
          },
          "metadata": {
            "tags": []
          },
          "execution_count": 13
        }
      ]
    },
    {
      "cell_type": "code",
      "metadata": {
        "colab_type": "code",
        "outputId": "e30f38ed-2ce1-48fe-b26f-9c519f4a05d2",
        "id": "oeSkr9JAleOR",
        "colab": {
          "base_uri": "https://localhost:8080/",
          "height": 232
        }
      },
      "source": [
        "train = pd.merge(train_values, train_labels, on='row_id')\n",
        "train.head()"
      ],
      "execution_count": 0,
      "outputs": [
        {
          "output_type": "execute_result",
          "data": {
            "text/html": [
              "<div>\n",
              "<style scoped>\n",
              "    .dataframe tbody tr th:only-of-type {\n",
              "        vertical-align: middle;\n",
              "    }\n",
              "\n",
              "    .dataframe tbody tr th {\n",
              "        vertical-align: top;\n",
              "    }\n",
              "\n",
              "    .dataframe thead th {\n",
              "        text-align: right;\n",
              "    }\n",
              "</style>\n",
              "<table border=\"1\" class=\"dataframe\">\n",
              "  <thead>\n",
              "    <tr style=\"text-align: right;\">\n",
              "      <th></th>\n",
              "      <th>row_id</th>\n",
              "      <th>loan_type</th>\n",
              "      <th>property_type</th>\n",
              "      <th>loan_purpose</th>\n",
              "      <th>occupancy</th>\n",
              "      <th>loan_amount</th>\n",
              "      <th>preapproval</th>\n",
              "      <th>msa_md</th>\n",
              "      <th>state_code</th>\n",
              "      <th>county_code</th>\n",
              "      <th>applicant_ethnicity</th>\n",
              "      <th>applicant_race</th>\n",
              "      <th>applicant_sex</th>\n",
              "      <th>applicant_income</th>\n",
              "      <th>population</th>\n",
              "      <th>minority_population_pct</th>\n",
              "      <th>ffiecmedian_family_income</th>\n",
              "      <th>tract_to_msa_md_income_pct</th>\n",
              "      <th>number_of_owner-occupied_units</th>\n",
              "      <th>number_of_1_to_4_family_units</th>\n",
              "      <th>lender</th>\n",
              "      <th>co_applicant</th>\n",
              "      <th>accepted</th>\n",
              "    </tr>\n",
              "  </thead>\n",
              "  <tbody>\n",
              "    <tr>\n",
              "      <th>0</th>\n",
              "      <td>0</td>\n",
              "      <td>3</td>\n",
              "      <td>1</td>\n",
              "      <td>1</td>\n",
              "      <td>1</td>\n",
              "      <td>70.0</td>\n",
              "      <td>3</td>\n",
              "      <td>18</td>\n",
              "      <td>37</td>\n",
              "      <td>246</td>\n",
              "      <td>2</td>\n",
              "      <td>5</td>\n",
              "      <td>1</td>\n",
              "      <td>24.0</td>\n",
              "      <td>6203.0</td>\n",
              "      <td>44.230</td>\n",
              "      <td>60588.0</td>\n",
              "      <td>50.933</td>\n",
              "      <td>716.0</td>\n",
              "      <td>2642.0</td>\n",
              "      <td>4536</td>\n",
              "      <td>False</td>\n",
              "      <td>1</td>\n",
              "    </tr>\n",
              "    <tr>\n",
              "      <th>1</th>\n",
              "      <td>1</td>\n",
              "      <td>1</td>\n",
              "      <td>1</td>\n",
              "      <td>3</td>\n",
              "      <td>1</td>\n",
              "      <td>178.0</td>\n",
              "      <td>3</td>\n",
              "      <td>369</td>\n",
              "      <td>52</td>\n",
              "      <td>299</td>\n",
              "      <td>1</td>\n",
              "      <td>5</td>\n",
              "      <td>1</td>\n",
              "      <td>57.0</td>\n",
              "      <td>5774.0</td>\n",
              "      <td>15.905</td>\n",
              "      <td>54821.0</td>\n",
              "      <td>100.000</td>\n",
              "      <td>1622.0</td>\n",
              "      <td>2108.0</td>\n",
              "      <td>2458</td>\n",
              "      <td>False</td>\n",
              "      <td>0</td>\n",
              "    </tr>\n",
              "    <tr>\n",
              "      <th>2</th>\n",
              "      <td>2</td>\n",
              "      <td>2</td>\n",
              "      <td>1</td>\n",
              "      <td>3</td>\n",
              "      <td>1</td>\n",
              "      <td>163.0</td>\n",
              "      <td>3</td>\n",
              "      <td>16</td>\n",
              "      <td>10</td>\n",
              "      <td>306</td>\n",
              "      <td>2</td>\n",
              "      <td>5</td>\n",
              "      <td>1</td>\n",
              "      <td>67.0</td>\n",
              "      <td>6094.0</td>\n",
              "      <td>61.270</td>\n",
              "      <td>67719.0</td>\n",
              "      <td>100.000</td>\n",
              "      <td>760.0</td>\n",
              "      <td>1048.0</td>\n",
              "      <td>5710</td>\n",
              "      <td>False</td>\n",
              "      <td>1</td>\n",
              "    </tr>\n",
              "    <tr>\n",
              "      <th>3</th>\n",
              "      <td>3</td>\n",
              "      <td>1</td>\n",
              "      <td>1</td>\n",
              "      <td>1</td>\n",
              "      <td>1</td>\n",
              "      <td>155.0</td>\n",
              "      <td>1</td>\n",
              "      <td>305</td>\n",
              "      <td>47</td>\n",
              "      <td>180</td>\n",
              "      <td>2</td>\n",
              "      <td>5</td>\n",
              "      <td>1</td>\n",
              "      <td>105.0</td>\n",
              "      <td>6667.0</td>\n",
              "      <td>6.246</td>\n",
              "      <td>78439.0</td>\n",
              "      <td>100.000</td>\n",
              "      <td>2025.0</td>\n",
              "      <td>2299.0</td>\n",
              "      <td>5888</td>\n",
              "      <td>True</td>\n",
              "      <td>1</td>\n",
              "    </tr>\n",
              "    <tr>\n",
              "      <th>4</th>\n",
              "      <td>4</td>\n",
              "      <td>1</td>\n",
              "      <td>1</td>\n",
              "      <td>1</td>\n",
              "      <td>1</td>\n",
              "      <td>305.0</td>\n",
              "      <td>3</td>\n",
              "      <td>24</td>\n",
              "      <td>37</td>\n",
              "      <td>20</td>\n",
              "      <td>2</td>\n",
              "      <td>3</td>\n",
              "      <td>2</td>\n",
              "      <td>71.0</td>\n",
              "      <td>6732.0</td>\n",
              "      <td>100.000</td>\n",
              "      <td>63075.0</td>\n",
              "      <td>82.200</td>\n",
              "      <td>1464.0</td>\n",
              "      <td>1847.0</td>\n",
              "      <td>289</td>\n",
              "      <td>False</td>\n",
              "      <td>1</td>\n",
              "    </tr>\n",
              "  </tbody>\n",
              "</table>\n",
              "</div>"
            ],
            "text/plain": [
              "   row_id  loan_type  property_type  ...  lender  co_applicant  accepted\n",
              "0       0          3              1  ...    4536         False         1\n",
              "1       1          1              1  ...    2458         False         0\n",
              "2       2          2              1  ...    5710         False         1\n",
              "3       3          1              1  ...    5888          True         1\n",
              "4       4          1              1  ...     289         False         1\n",
              "\n",
              "[5 rows x 23 columns]"
            ]
          },
          "metadata": {
            "tags": []
          },
          "execution_count": 14
        }
      ]
    },
    {
      "cell_type": "code",
      "metadata": {
        "colab_type": "code",
        "outputId": "72aa0c08-a0ba-4ab9-d0f7-fee9a8ced5c1",
        "id": "-j8sxe00leOM",
        "colab": {
          "base_uri": "https://localhost:8080/",
          "height": 118
        }
      },
      "source": [
        "train.groupby('applicant_sex')['accepted'].mean()"
      ],
      "execution_count": 0,
      "outputs": [
        {
          "output_type": "execute_result",
          "data": {
            "text/plain": [
              "applicant_sex\n",
              "1    0.520823\n",
              "2    0.466453\n",
              "3    0.406054\n",
              "4    0.795947\n",
              "Name: accepted, dtype: float64"
            ]
          },
          "metadata": {
            "tags": []
          },
          "execution_count": 15
        }
      ]
    },
    {
      "cell_type": "code",
      "metadata": {
        "colab_type": "code",
        "outputId": "94c1a551-fe76-4b52-adde-7d200c0aa5e7",
        "id": "EFYFa3galeOB",
        "colab": {
          "base_uri": "https://localhost:8080/",
          "height": 301
        }
      },
      "source": [
        "test = train[train.state_code == 45]\n",
        "test.plot(kind='scatter', x='loan_amount', y='applicant_income')"
      ],
      "execution_count": 0,
      "outputs": [
        {
          "output_type": "execute_result",
          "data": {
            "text/plain": [
              "<matplotlib.axes._subplots.AxesSubplot at 0x7fb6c4eef0f0>"
            ]
          },
          "metadata": {
            "tags": []
          },
          "execution_count": 16
        },
        {
          "output_type": "display_data",
          "data": {
            "image/png": "[encoded data removed]",
            "text/plain": [
              "<Figure size 432x288 with 1 Axes>"
            ]
          },
          "metadata": {
            "tags": []
          }
        }
      ]
    },
    {
      "cell_type": "code",
      "metadata": {
        "colab_type": "code",
        "outputId": "3cf0f2cd-3913-4086-82be-e14a7427aa8b",
        "id": "c8IwZ0idldWD",
        "colab": {
          "base_uri": "https://localhost:8080/",
          "height": 232
        }
      },
      "source": [
        "test = train[train.state_code == 48]\n",
        "test = test[test.county_code != -1]\n",
        "test.head()"
      ],
      "execution_count": 0,
      "outputs": [
        {
          "output_type": "execute_result",
          "data": {
            "text/html": [
              "<div>\n",
              "<style scoped>\n",
              "    .dataframe tbody tr th:only-of-type {\n",
              "        vertical-align: middle;\n",
              "    }\n",
              "\n",
              "    .dataframe tbody tr th {\n",
              "        vertical-align: top;\n",
              "    }\n",
              "\n",
              "    .dataframe thead th {\n",
              "        text-align: right;\n",
              "    }\n",
              "</style>\n",
              "<table border=\"1\" class=\"dataframe\">\n",
              "  <thead>\n",
              "    <tr style=\"text-align: right;\">\n",
              "      <th></th>\n",
              "      <th>row_id</th>\n",
              "      <th>loan_type</th>\n",
              "      <th>property_type</th>\n",
              "      <th>loan_purpose</th>\n",
              "      <th>occupancy</th>\n",
              "      <th>loan_amount</th>\n",
              "      <th>preapproval</th>\n",
              "      <th>msa_md</th>\n",
              "      <th>state_code</th>\n",
              "      <th>county_code</th>\n",
              "      <th>applicant_ethnicity</th>\n",
              "      <th>applicant_race</th>\n",
              "      <th>applicant_sex</th>\n",
              "      <th>applicant_income</th>\n",
              "      <th>population</th>\n",
              "      <th>minority_population_pct</th>\n",
              "      <th>ffiecmedian_family_income</th>\n",
              "      <th>tract_to_msa_md_income_pct</th>\n",
              "      <th>number_of_owner-occupied_units</th>\n",
              "      <th>number_of_1_to_4_family_units</th>\n",
              "      <th>lender</th>\n",
              "      <th>co_applicant</th>\n",
              "      <th>accepted</th>\n",
              "    </tr>\n",
              "  </thead>\n",
              "  <tbody>\n",
              "    <tr>\n",
              "      <th>27</th>\n",
              "      <td>27</td>\n",
              "      <td>1</td>\n",
              "      <td>1</td>\n",
              "      <td>2</td>\n",
              "      <td>1</td>\n",
              "      <td>15.0</td>\n",
              "      <td>3</td>\n",
              "      <td>254</td>\n",
              "      <td>48</td>\n",
              "      <td>56</td>\n",
              "      <td>2</td>\n",
              "      <td>5</td>\n",
              "      <td>1</td>\n",
              "      <td>53.0</td>\n",
              "      <td>4885.0</td>\n",
              "      <td>2.693</td>\n",
              "      <td>62795.0</td>\n",
              "      <td>100.000</td>\n",
              "      <td>1462.0</td>\n",
              "      <td>1955.0</td>\n",
              "      <td>4419</td>\n",
              "      <td>True</td>\n",
              "      <td>1</td>\n",
              "    </tr>\n",
              "    <tr>\n",
              "      <th>104</th>\n",
              "      <td>104</td>\n",
              "      <td>1</td>\n",
              "      <td>1</td>\n",
              "      <td>3</td>\n",
              "      <td>1</td>\n",
              "      <td>361.0</td>\n",
              "      <td>3</td>\n",
              "      <td>314</td>\n",
              "      <td>48</td>\n",
              "      <td>321</td>\n",
              "      <td>1</td>\n",
              "      <td>5</td>\n",
              "      <td>2</td>\n",
              "      <td>81.0</td>\n",
              "      <td>8066.0</td>\n",
              "      <td>96.815</td>\n",
              "      <td>70626.0</td>\n",
              "      <td>46.626</td>\n",
              "      <td>203.0</td>\n",
              "      <td>341.0</td>\n",
              "      <td>3507</td>\n",
              "      <td>False</td>\n",
              "      <td>0</td>\n",
              "    </tr>\n",
              "    <tr>\n",
              "      <th>105</th>\n",
              "      <td>105</td>\n",
              "      <td>1</td>\n",
              "      <td>1</td>\n",
              "      <td>1</td>\n",
              "      <td>1</td>\n",
              "      <td>423.0</td>\n",
              "      <td>3</td>\n",
              "      <td>92</td>\n",
              "      <td>48</td>\n",
              "      <td>61</td>\n",
              "      <td>2</td>\n",
              "      <td>5</td>\n",
              "      <td>2</td>\n",
              "      <td>NaN</td>\n",
              "      <td>8946.0</td>\n",
              "      <td>6.166</td>\n",
              "      <td>82440.0</td>\n",
              "      <td>100.000</td>\n",
              "      <td>2534.0</td>\n",
              "      <td>3100.0</td>\n",
              "      <td>2275</td>\n",
              "      <td>True</td>\n",
              "      <td>1</td>\n",
              "    </tr>\n",
              "    <tr>\n",
              "      <th>157</th>\n",
              "      <td>157</td>\n",
              "      <td>1</td>\n",
              "      <td>1</td>\n",
              "      <td>2</td>\n",
              "      <td>1</td>\n",
              "      <td>8.0</td>\n",
              "      <td>3</td>\n",
              "      <td>314</td>\n",
              "      <td>48</td>\n",
              "      <td>246</td>\n",
              "      <td>2</td>\n",
              "      <td>5</td>\n",
              "      <td>1</td>\n",
              "      <td>42.0</td>\n",
              "      <td>2003.0</td>\n",
              "      <td>22.495</td>\n",
              "      <td>70713.0</td>\n",
              "      <td>70.205</td>\n",
              "      <td>493.0</td>\n",
              "      <td>760.0</td>\n",
              "      <td>2769</td>\n",
              "      <td>False</td>\n",
              "      <td>0</td>\n",
              "    </tr>\n",
              "    <tr>\n",
              "      <th>272</th>\n",
              "      <td>272</td>\n",
              "      <td>1</td>\n",
              "      <td>1</td>\n",
              "      <td>3</td>\n",
              "      <td>1</td>\n",
              "      <td>50.0</td>\n",
              "      <td>3</td>\n",
              "      <td>145</td>\n",
              "      <td>48</td>\n",
              "      <td>136</td>\n",
              "      <td>2</td>\n",
              "      <td>5</td>\n",
              "      <td>1</td>\n",
              "      <td>134.0</td>\n",
              "      <td>3911.0</td>\n",
              "      <td>4.194</td>\n",
              "      <td>58823.0</td>\n",
              "      <td>100.000</td>\n",
              "      <td>1455.0</td>\n",
              "      <td>4030.0</td>\n",
              "      <td>879</td>\n",
              "      <td>True</td>\n",
              "      <td>1</td>\n",
              "    </tr>\n",
              "  </tbody>\n",
              "</table>\n",
              "</div>"
            ],
            "text/plain": [
              "     row_id  loan_type  property_type  ...  lender  co_applicant  accepted\n",
              "27       27          1              1  ...    4419          True         1\n",
              "104     104          1              1  ...    3507         False         0\n",
              "105     105          1              1  ...    2275          True         1\n",
              "157     157          1              1  ...    2769         False         0\n",
              "272     272          1              1  ...     879          True         1\n",
              "\n",
              "[5 rows x 23 columns]"
            ]
          },
          "metadata": {
            "tags": []
          },
          "execution_count": 17
        }
      ]
    },
    {
      "cell_type": "code",
      "metadata": {
        "colab_type": "code",
        "outputId": "3df322bb-13ec-4fcc-a9db-b956ba8b1491",
        "id": "BLbofs4RlXXy",
        "colab": {
          "base_uri": "https://localhost:8080/",
          "height": 34
        }
      },
      "source": [
        "test.groupby('county_code')['accepted'].mean().max()"
      ],
      "execution_count": 0,
      "outputs": [
        {
          "output_type": "execute_result",
          "data": {
            "text/plain": [
              "0.6666666666666666"
            ]
          },
          "metadata": {
            "tags": []
          },
          "execution_count": 18
        }
      ]
    },
    {
      "cell_type": "code",
      "metadata": {
        "colab_type": "code",
        "outputId": "8177eb49-1f75-45d9-9170-207714630631",
        "id": "8Fo8Yv7AlXXv",
        "colab": {
          "base_uri": "https://localhost:8080/",
          "height": 34
        }
      },
      "source": [
        "test.groupby('county_code')['accepted'].mean().min()"
      ],
      "execution_count": 0,
      "outputs": [
        {
          "output_type": "execute_result",
          "data": {
            "text/plain": [
              "0.3150684931506849"
            ]
          },
          "metadata": {
            "tags": []
          },
          "execution_count": 19
        }
      ]
    },
    {
      "cell_type": "code",
      "metadata": {
        "colab_type": "code",
        "outputId": "a3b6bb91-2293-45dd-9ba5-e7262aabadba",
        "id": "cvxGkpiflXXt",
        "colab": {
          "base_uri": "https://localhost:8080/",
          "height": 232
        }
      },
      "source": [
        "test = train[((train.state_code == 2) | (train.state_code == 4))]\n",
        "test.head()"
      ],
      "execution_count": 0,
      "outputs": [
        {
          "output_type": "execute_result",
          "data": {
            "text/html": [
              "<div>\n",
              "<style scoped>\n",
              "    .dataframe tbody tr th:only-of-type {\n",
              "        vertical-align: middle;\n",
              "    }\n",
              "\n",
              "    .dataframe tbody tr th {\n",
              "        vertical-align: top;\n",
              "    }\n",
              "\n",
              "    .dataframe thead th {\n",
              "        text-align: right;\n",
              "    }\n",
              "</style>\n",
              "<table border=\"1\" class=\"dataframe\">\n",
              "  <thead>\n",
              "    <tr style=\"text-align: right;\">\n",
              "      <th></th>\n",
              "      <th>row_id</th>\n",
              "      <th>loan_type</th>\n",
              "      <th>property_type</th>\n",
              "      <th>loan_purpose</th>\n",
              "      <th>occupancy</th>\n",
              "      <th>loan_amount</th>\n",
              "      <th>preapproval</th>\n",
              "      <th>msa_md</th>\n",
              "      <th>state_code</th>\n",
              "      <th>county_code</th>\n",
              "      <th>applicant_ethnicity</th>\n",
              "      <th>applicant_race</th>\n",
              "      <th>applicant_sex</th>\n",
              "      <th>applicant_income</th>\n",
              "      <th>population</th>\n",
              "      <th>minority_population_pct</th>\n",
              "      <th>ffiecmedian_family_income</th>\n",
              "      <th>tract_to_msa_md_income_pct</th>\n",
              "      <th>number_of_owner-occupied_units</th>\n",
              "      <th>number_of_1_to_4_family_units</th>\n",
              "      <th>lender</th>\n",
              "      <th>co_applicant</th>\n",
              "      <th>accepted</th>\n",
              "    </tr>\n",
              "  </thead>\n",
              "  <tbody>\n",
              "    <tr>\n",
              "      <th>14</th>\n",
              "      <td>14</td>\n",
              "      <td>1</td>\n",
              "      <td>1</td>\n",
              "      <td>1</td>\n",
              "      <td>2</td>\n",
              "      <td>151.0</td>\n",
              "      <td>3</td>\n",
              "      <td>281</td>\n",
              "      <td>2</td>\n",
              "      <td>210</td>\n",
              "      <td>2</td>\n",
              "      <td>5</td>\n",
              "      <td>1</td>\n",
              "      <td>172.0</td>\n",
              "      <td>2165.0</td>\n",
              "      <td>3.916</td>\n",
              "      <td>63560.0</td>\n",
              "      <td>100.000</td>\n",
              "      <td>839.0</td>\n",
              "      <td>1263.0</td>\n",
              "      <td>5473</td>\n",
              "      <td>True</td>\n",
              "      <td>0</td>\n",
              "    </tr>\n",
              "    <tr>\n",
              "      <th>20</th>\n",
              "      <td>20</td>\n",
              "      <td>1</td>\n",
              "      <td>1</td>\n",
              "      <td>3</td>\n",
              "      <td>1</td>\n",
              "      <td>111.0</td>\n",
              "      <td>3</td>\n",
              "      <td>278</td>\n",
              "      <td>2</td>\n",
              "      <td>208</td>\n",
              "      <td>1</td>\n",
              "      <td>5</td>\n",
              "      <td>2</td>\n",
              "      <td>41.0</td>\n",
              "      <td>6059.0</td>\n",
              "      <td>96.448</td>\n",
              "      <td>50655.0</td>\n",
              "      <td>72.441</td>\n",
              "      <td>1325.0</td>\n",
              "      <td>1551.0</td>\n",
              "      <td>5726</td>\n",
              "      <td>True</td>\n",
              "      <td>0</td>\n",
              "    </tr>\n",
              "    <tr>\n",
              "      <th>52</th>\n",
              "      <td>52</td>\n",
              "      <td>1</td>\n",
              "      <td>1</td>\n",
              "      <td>1</td>\n",
              "      <td>1</td>\n",
              "      <td>88.0</td>\n",
              "      <td>2</td>\n",
              "      <td>80</td>\n",
              "      <td>2</td>\n",
              "      <td>134</td>\n",
              "      <td>2</td>\n",
              "      <td>5</td>\n",
              "      <td>2</td>\n",
              "      <td>50.0</td>\n",
              "      <td>3023.0</td>\n",
              "      <td>27.691</td>\n",
              "      <td>66520.0</td>\n",
              "      <td>100.000</td>\n",
              "      <td>1106.0</td>\n",
              "      <td>1251.0</td>\n",
              "      <td>4750</td>\n",
              "      <td>False</td>\n",
              "      <td>1</td>\n",
              "    </tr>\n",
              "    <tr>\n",
              "      <th>54</th>\n",
              "      <td>54</td>\n",
              "      <td>1</td>\n",
              "      <td>1</td>\n",
              "      <td>1</td>\n",
              "      <td>1</td>\n",
              "      <td>304.0</td>\n",
              "      <td>2</td>\n",
              "      <td>286</td>\n",
              "      <td>4</td>\n",
              "      <td>321</td>\n",
              "      <td>2</td>\n",
              "      <td>5</td>\n",
              "      <td>1</td>\n",
              "      <td>168.0</td>\n",
              "      <td>5459.0</td>\n",
              "      <td>8.739</td>\n",
              "      <td>88608.0</td>\n",
              "      <td>100.000</td>\n",
              "      <td>1689.0</td>\n",
              "      <td>1992.0</td>\n",
              "      <td>3231</td>\n",
              "      <td>True</td>\n",
              "      <td>0</td>\n",
              "    </tr>\n",
              "    <tr>\n",
              "      <th>60</th>\n",
              "      <td>60</td>\n",
              "      <td>1</td>\n",
              "      <td>1</td>\n",
              "      <td>3</td>\n",
              "      <td>1</td>\n",
              "      <td>185.0</td>\n",
              "      <td>3</td>\n",
              "      <td>311</td>\n",
              "      <td>2</td>\n",
              "      <td>68</td>\n",
              "      <td>3</td>\n",
              "      <td>5</td>\n",
              "      <td>1</td>\n",
              "      <td>43.0</td>\n",
              "      <td>4139.0</td>\n",
              "      <td>8.278</td>\n",
              "      <td>62864.0</td>\n",
              "      <td>100.000</td>\n",
              "      <td>1280.0</td>\n",
              "      <td>1537.0</td>\n",
              "      <td>4988</td>\n",
              "      <td>False</td>\n",
              "      <td>0</td>\n",
              "    </tr>\n",
              "  </tbody>\n",
              "</table>\n",
              "</div>"
            ],
            "text/plain": [
              "    row_id  loan_type  property_type  ...  lender  co_applicant  accepted\n",
              "14      14          1              1  ...    5473          True         0\n",
              "20      20          1              1  ...    5726          True         0\n",
              "52      52          1              1  ...    4750         False         1\n",
              "54      54          1              1  ...    3231          True         0\n",
              "60      60          1              1  ...    4988         False         0\n",
              "\n",
              "[5 rows x 23 columns]"
            ]
          },
          "metadata": {
            "tags": []
          },
          "execution_count": 20
        }
      ]
    },
    {
      "cell_type": "code",
      "metadata": {
        "colab_type": "code",
        "outputId": "8a77f717-57db-4f49-a5b9-5039fc2f6556",
        "id": "1-9H_9NmlXXo",
        "colab": {
          "base_uri": "https://localhost:8080/",
          "height": 34
        }
      },
      "source": [
        "# overall loan acceptance rate for both 2 and 4\n",
        "test.accepted.mean()"
      ],
      "execution_count": 0,
      "outputs": [
        {
          "output_type": "execute_result",
          "data": {
            "text/plain": [
              "0.4903343840236295"
            ]
          },
          "metadata": {
            "tags": []
          },
          "execution_count": 21
        }
      ]
    },
    {
      "cell_type": "code",
      "metadata": {
        "colab_type": "code",
        "outputId": "0cfec64e-54aa-456b-d474-9a0d70bdd9ea",
        "id": "05xp51VzlXXk",
        "colab": {
          "base_uri": "https://localhost:8080/",
          "height": 118
        }
      },
      "source": [
        "# loan acceptance rate for both 2 and 4\n",
        "test.groupby('loan_type')['accepted'].mean()"
      ],
      "execution_count": 0,
      "outputs": [
        {
          "output_type": "execute_result",
          "data": {
            "text/plain": [
              "loan_type\n",
              "1    0.474463\n",
              "2    0.516159\n",
              "3    0.564725\n",
              "4    0.515228\n",
              "Name: accepted, dtype: float64"
            ]
          },
          "metadata": {
            "tags": []
          },
          "execution_count": 22
        }
      ]
    },
    {
      "cell_type": "code",
      "metadata": {
        "colab_type": "code",
        "outputId": "222a6378-5205-4be4-f4c2-ee5485013200",
        "id": "Zg2V6zWflXXf",
        "colab": {
          "base_uri": "https://localhost:8080/",
          "height": 118
        }
      },
      "source": [
        "# loan acceptance rate for 2\n",
        "train[train.state_code == 2].groupby('loan_type')['accepted'].mean()"
      ],
      "execution_count": 0,
      "outputs": [
        {
          "output_type": "execute_result",
          "data": {
            "text/plain": [
              "loan_type\n",
              "1    0.435804\n",
              "2    0.503708\n",
              "3    0.531802\n",
              "4    0.461240\n",
              "Name: accepted, dtype: float64"
            ]
          },
          "metadata": {
            "tags": []
          },
          "execution_count": 23
        }
      ]
    },
    {
      "cell_type": "code",
      "metadata": {
        "colab_type": "code",
        "outputId": "282fb951-33a7-4c79-c977-678863e5fca7",
        "id": "ZEBt7K5klXXZ",
        "colab": {
          "base_uri": "https://localhost:8080/",
          "height": 118
        }
      },
      "source": [
        "# loan acceptance rate for 4\n",
        "train[train.state_code == 4].groupby('loan_type')['accepted'].mean()"
      ],
      "execution_count": 0,
      "outputs": [
        {
          "output_type": "execute_result",
          "data": {
            "text/plain": [
              "loan_type\n",
              "1    0.569992\n",
              "2    0.554178\n",
              "3    0.639456\n",
              "4    0.617647\n",
              "Name: accepted, dtype: float64"
            ]
          },
          "metadata": {
            "tags": []
          },
          "execution_count": 24
        }
      ]
    },
    {
      "cell_type": "markdown",
      "metadata": {
        "id": "6X-m4Opofv0f",
        "colab_type": "text"
      },
      "source": [
        "## Drop unneccessary columns"
      ]
    },
    {
      "cell_type": "code",
      "metadata": {
        "id": "m1TdRNqYEtRp",
        "colab_type": "code",
        "colab": {}
      },
      "source": [
        "train_values.drop(['lender', 'msa_md'],axis=1, inplace=True)\n",
        "test_values.drop(['lender', 'msa_md'],axis=1, inplace=True)"
      ],
      "execution_count": 0,
      "outputs": []
    },
    {
      "cell_type": "code",
      "metadata": {
        "id": "SCxI2tY4f-Sk",
        "colab_type": "code",
        "outputId": "29078aef-6438-4eb9-a7f0-7f9adb79d43f",
        "colab": {
          "base_uri": "https://localhost:8080/",
          "height": 232
        }
      },
      "source": [
        "# Combine train and test so as to perform feature engineering on both datasets\n",
        "train_values['sep']='Train'\n",
        "test_values['sep']='Test'\n",
        "data = pd.concat([train_values,test_values], sort=False)\n",
        "data.head()"
      ],
      "execution_count": 0,
      "outputs": [
        {
          "output_type": "execute_result",
          "data": {
            "text/html": [
              "<div>\n",
              "<style scoped>\n",
              "    .dataframe tbody tr th:only-of-type {\n",
              "        vertical-align: middle;\n",
              "    }\n",
              "\n",
              "    .dataframe tbody tr th {\n",
              "        vertical-align: top;\n",
              "    }\n",
              "\n",
              "    .dataframe thead th {\n",
              "        text-align: right;\n",
              "    }\n",
              "</style>\n",
              "<table border=\"1\" class=\"dataframe\">\n",
              "  <thead>\n",
              "    <tr style=\"text-align: right;\">\n",
              "      <th></th>\n",
              "      <th>row_id</th>\n",
              "      <th>loan_type</th>\n",
              "      <th>property_type</th>\n",
              "      <th>loan_purpose</th>\n",
              "      <th>occupancy</th>\n",
              "      <th>loan_amount</th>\n",
              "      <th>preapproval</th>\n",
              "      <th>state_code</th>\n",
              "      <th>county_code</th>\n",
              "      <th>applicant_ethnicity</th>\n",
              "      <th>applicant_race</th>\n",
              "      <th>applicant_sex</th>\n",
              "      <th>applicant_income</th>\n",
              "      <th>population</th>\n",
              "      <th>minority_population_pct</th>\n",
              "      <th>ffiecmedian_family_income</th>\n",
              "      <th>tract_to_msa_md_income_pct</th>\n",
              "      <th>number_of_owner-occupied_units</th>\n",
              "      <th>number_of_1_to_4_family_units</th>\n",
              "      <th>co_applicant</th>\n",
              "      <th>sep</th>\n",
              "    </tr>\n",
              "  </thead>\n",
              "  <tbody>\n",
              "    <tr>\n",
              "      <th>0</th>\n",
              "      <td>0</td>\n",
              "      <td>3</td>\n",
              "      <td>1</td>\n",
              "      <td>1</td>\n",
              "      <td>1</td>\n",
              "      <td>70.0</td>\n",
              "      <td>3</td>\n",
              "      <td>37</td>\n",
              "      <td>246</td>\n",
              "      <td>2</td>\n",
              "      <td>5</td>\n",
              "      <td>1</td>\n",
              "      <td>24.0</td>\n",
              "      <td>6203.0</td>\n",
              "      <td>44.230</td>\n",
              "      <td>60588.0</td>\n",
              "      <td>50.933</td>\n",
              "      <td>716.0</td>\n",
              "      <td>2642.0</td>\n",
              "      <td>False</td>\n",
              "      <td>Train</td>\n",
              "    </tr>\n",
              "    <tr>\n",
              "      <th>1</th>\n",
              "      <td>1</td>\n",
              "      <td>1</td>\n",
              "      <td>1</td>\n",
              "      <td>3</td>\n",
              "      <td>1</td>\n",
              "      <td>178.0</td>\n",
              "      <td>3</td>\n",
              "      <td>52</td>\n",
              "      <td>299</td>\n",
              "      <td>1</td>\n",
              "      <td>5</td>\n",
              "      <td>1</td>\n",
              "      <td>57.0</td>\n",
              "      <td>5774.0</td>\n",
              "      <td>15.905</td>\n",
              "      <td>54821.0</td>\n",
              "      <td>100.000</td>\n",
              "      <td>1622.0</td>\n",
              "      <td>2108.0</td>\n",
              "      <td>False</td>\n",
              "      <td>Train</td>\n",
              "    </tr>\n",
              "    <tr>\n",
              "      <th>2</th>\n",
              "      <td>2</td>\n",
              "      <td>2</td>\n",
              "      <td>1</td>\n",
              "      <td>3</td>\n",
              "      <td>1</td>\n",
              "      <td>163.0</td>\n",
              "      <td>3</td>\n",
              "      <td>10</td>\n",
              "      <td>306</td>\n",
              "      <td>2</td>\n",
              "      <td>5</td>\n",
              "      <td>1</td>\n",
              "      <td>67.0</td>\n",
              "      <td>6094.0</td>\n",
              "      <td>61.270</td>\n",
              "      <td>67719.0</td>\n",
              "      <td>100.000</td>\n",
              "      <td>760.0</td>\n",
              "      <td>1048.0</td>\n",
              "      <td>False</td>\n",
              "      <td>Train</td>\n",
              "    </tr>\n",
              "    <tr>\n",
              "      <th>3</th>\n",
              "      <td>3</td>\n",
              "      <td>1</td>\n",
              "      <td>1</td>\n",
              "      <td>1</td>\n",
              "      <td>1</td>\n",
              "      <td>155.0</td>\n",
              "      <td>1</td>\n",
              "      <td>47</td>\n",
              "      <td>180</td>\n",
              "      <td>2</td>\n",
              "      <td>5</td>\n",
              "      <td>1</td>\n",
              "      <td>105.0</td>\n",
              "      <td>6667.0</td>\n",
              "      <td>6.246</td>\n",
              "      <td>78439.0</td>\n",
              "      <td>100.000</td>\n",
              "      <td>2025.0</td>\n",
              "      <td>2299.0</td>\n",
              "      <td>True</td>\n",
              "      <td>Train</td>\n",
              "    </tr>\n",
              "    <tr>\n",
              "      <th>4</th>\n",
              "      <td>4</td>\n",
              "      <td>1</td>\n",
              "      <td>1</td>\n",
              "      <td>1</td>\n",
              "      <td>1</td>\n",
              "      <td>305.0</td>\n",
              "      <td>3</td>\n",
              "      <td>37</td>\n",
              "      <td>20</td>\n",
              "      <td>2</td>\n",
              "      <td>3</td>\n",
              "      <td>2</td>\n",
              "      <td>71.0</td>\n",
              "      <td>6732.0</td>\n",
              "      <td>100.000</td>\n",
              "      <td>63075.0</td>\n",
              "      <td>82.200</td>\n",
              "      <td>1464.0</td>\n",
              "      <td>1847.0</td>\n",
              "      <td>False</td>\n",
              "      <td>Train</td>\n",
              "    </tr>\n",
              "  </tbody>\n",
              "</table>\n",
              "</div>"
            ],
            "text/plain": [
              "   row_id  loan_type  ...  co_applicant    sep\n",
              "0       0          3  ...         False  Train\n",
              "1       1          1  ...         False  Train\n",
              "2       2          2  ...         False  Train\n",
              "3       3          1  ...          True  Train\n",
              "4       4          1  ...         False  Train\n",
              "\n",
              "[5 rows x 21 columns]"
            ]
          },
          "metadata": {
            "tags": []
          },
          "execution_count": 27
        }
      ]
    },
    {
      "cell_type": "code",
      "metadata": {
        "id": "M1o1u59dhjE7",
        "colab_type": "code",
        "outputId": "cfbf84fe-1f46-4af2-9397-288dc50a7d1e",
        "colab": {
          "base_uri": "https://localhost:8080/",
          "height": 454
        }
      },
      "source": [
        "data.info()"
      ],
      "execution_count": 0,
      "outputs": [
        {
          "output_type": "stream",
          "text": [
            "<class 'pandas.core.frame.DataFrame'>\n",
            "Int64Index: 1000000 entries, 0 to 499999\n",
            "Data columns (total 21 columns):\n",
            "row_id                            1000000 non-null int64\n",
            "loan_type                         1000000 non-null int64\n",
            "property_type                     1000000 non-null int64\n",
            "loan_purpose                      1000000 non-null int64\n",
            "occupancy                         1000000 non-null int64\n",
            "loan_amount                       1000000 non-null float64\n",
            "preapproval                       1000000 non-null int64\n",
            "state_code                        1000000 non-null int64\n",
            "county_code                       1000000 non-null int64\n",
            "applicant_ethnicity               1000000 non-null int64\n",
            "applicant_race                    1000000 non-null int64\n",
            "applicant_sex                     1000000 non-null int64\n",
            "applicant_income                  919911 non-null float64\n",
            "population                        955055 non-null float64\n",
            "minority_population_pct           955052 non-null float64\n",
            "ffiecmedian_family_income         955107 non-null float64\n",
            "tract_to_msa_md_income_pct        954969 non-null float64\n",
            "number_of_owner-occupied_units    954861 non-null float64\n",
            "number_of_1_to_4_family_units     954920 non-null float64\n",
            "co_applicant                      1000000 non-null bool\n",
            "sep                               1000000 non-null object\n",
            "dtypes: bool(1), float64(8), int64(11), object(1)\n",
            "memory usage: 161.2+ MB\n"
          ],
          "name": "stdout"
        }
      ]
    },
    {
      "cell_type": "markdown",
      "metadata": {
        "id": "9Q9dvAwAyNs_",
        "colab_type": "text"
      },
      "source": [
        "## Exploring the Distribution of Each Variable (Univariate Analysis)"
      ]
    },
    {
      "cell_type": "markdown",
      "metadata": {
        "id": "Pmq121dFmcTP",
        "colab_type": "text"
      },
      "source": [
        "It can be extremely valuable to study the distributions of each variable and compare pairs of variables. This practice can help us identify which features are sneaking the most noise into our model, and how variables are effecting each other in isolation. Through visualization or some calculation, we explore each of the following questions:\n",
        "\n",
        "What are the distributions of each variable?\n",
        "How are the feature correllated with each other?\n",
        "How are the features correllated with the response variable?\n",
        "What are the distributions of each variable?\n",
        "To visualize the distributions of each variable in our dataset, we have created the histograms and bar plots below."
      ]
    },
    {
      "cell_type": "markdown",
      "metadata": {
        "id": "ede7X2phyY_F",
        "colab_type": "text"
      },
      "source": [
        "### Target Variable"
      ]
    },
    {
      "cell_type": "code",
      "metadata": {
        "id": "LEDqRW-pyRvI",
        "colab_type": "code",
        "outputId": "6981ba00-b71e-4fc1-a2f7-1810e72f66d2",
        "colab": {
          "base_uri": "https://localhost:8080/",
          "height": 282
        }
      },
      "source": [
        "train_labels['accepted'].value_counts().plot.bar()"
      ],
      "execution_count": 0,
      "outputs": [
        {
          "output_type": "execute_result",
          "data": {
            "text/plain": [
              "<matplotlib.axes._subplots.AxesSubplot at 0x7fb6c0a8c9e8>"
            ]
          },
          "metadata": {
            "tags": []
          },
          "execution_count": 29
        },
        {
          "output_type": "display_data",
          "data": {
            "image/png": "[encoded data removed]",
            "text/plain": [
              "<Figure size 432x288 with 1 Axes>"
            ]
          },
          "metadata": {
            "tags": []
          }
        }
      ]
    },
    {
      "cell_type": "markdown",
      "metadata": {
        "id": "fwGPGaRbyt3K",
        "colab_type": "text"
      },
      "source": [
        "### Categorical Variables (Nominal)"
      ]
    },
    {
      "cell_type": "code",
      "metadata": {
        "id": "ISYCku3n85Dg",
        "colab_type": "code",
        "outputId": "02832831-5d33-4a3b-efad-a17feb5daa3d",
        "colab": {
          "base_uri": "https://localhost:8080/",
          "height": 338
        }
      },
      "source": [
        "plt.figure(1, figsize=(20, 5))\n",
        "data['state_code'].value_counts().plot.bar(title= 'State')\n",
        "plt.show()"
      ],
      "execution_count": 0,
      "outputs": [
        {
          "output_type": "display_data",
          "data": {
            "image/png": "[encoded data removed]",
            "text/plain": [
              "<Figure size 1440x360 with 1 Axes>"
            ]
          },
          "metadata": {
            "tags": []
          }
        }
      ]
    },
    {
      "cell_type": "code",
      "metadata": {
        "colab_type": "code",
        "outputId": "a2e54f6c-e8cd-40af-a8d9-06df6c2e6df1",
        "id": "JMhDphu99Dfi",
        "colab": {
          "base_uri": "https://localhost:8080/",
          "height": 365
        }
      },
      "source": [
        "plt.figure(1, figsize=(100, 5))\n",
        "data['county_code'].value_counts().plot.bar(title= 'Country')\n",
        "plt.show()"
      ],
      "execution_count": 0,
      "outputs": [
        {
          "output_type": "display_data",
          "data": {
            "image/png": "[encoded data removed]",
            "text/plain": [
              "<Figure size 7200x360 with 1 Axes>"
            ]
          },
          "metadata": {
            "tags": []
          }
        }
      ]
    },
    {
      "cell_type": "code",
      "metadata": {
        "colab_type": "code",
        "outputId": "96618472-bd70-448e-a3a2-d296f6997117",
        "id": "S00K9KeM9D3n",
        "colab": {
          "base_uri": "https://localhost:8080/",
          "height": 332
        }
      },
      "source": [
        "plt.figure(1, figsize=(20, 5))\n",
        "data['loan_purpose'].value_counts().plot.bar(title= 'Loan Purpose')\n",
        "plt.show()"
      ],
      "execution_count": 0,
      "outputs": [
        {
          "output_type": "display_data",
          "data": {
            "image/png": "[encoded data removed]",
            "text/plain": [
              "<Figure size 1440x360 with 1 Axes>"
            ]
          },
          "metadata": {
            "tags": []
          }
        }
      ]
    },
    {
      "cell_type": "code",
      "metadata": {
        "colab_type": "code",
        "outputId": "bd5c6c76-93e5-4b39-ef5a-c82ec8397e85",
        "id": "wFm6Yj_X9EBF",
        "colab": {
          "base_uri": "https://localhost:8080/",
          "height": 332
        }
      },
      "source": [
        "plt.figure(1, figsize=(20, 5))\n",
        "data['occupancy'].value_counts().plot.bar(title= 'Occupancy')\n",
        "plt.show()"
      ],
      "execution_count": 0,
      "outputs": [
        {
          "output_type": "display_data",
          "data": {
            "image/png": "[encoded data removed]",
            "text/plain": [
              "<Figure size 1440x360 with 1 Axes>"
            ]
          },
          "metadata": {
            "tags": []
          }
        }
      ]
    },
    {
      "cell_type": "code",
      "metadata": {
        "colab_type": "code",
        "outputId": "a1948c7c-62f7-4846-8613-0b94d64bbcf2",
        "id": "2ep1UVa89EPa",
        "colab": {
          "base_uri": "https://localhost:8080/",
          "height": 332
        }
      },
      "source": [
        "plt.figure(1, figsize=(20, 5))\n",
        "data['preapproval'].value_counts().plot.bar(title= 'Preapproval')\n",
        "plt.show()"
      ],
      "execution_count": 0,
      "outputs": [
        {
          "output_type": "display_data",
          "data": {
            "image/png": "[encoded data removed]",
            "text/plain": [
              "<Figure size 1440x360 with 1 Axes>"
            ]
          },
          "metadata": {
            "tags": []
          }
        }
      ]
    },
    {
      "cell_type": "code",
      "metadata": {
        "colab_type": "code",
        "outputId": "7db0b966-1861-4ab0-e6d5-ff8f0c69fc43",
        "id": "MORqpRKj9EUE",
        "colab": {
          "base_uri": "https://localhost:8080/",
          "height": 332
        }
      },
      "source": [
        "plt.figure(1, figsize=(20, 5))\n",
        "data['applicant_ethnicity'].value_counts().plot.bar(title= 'Applicant Ethnicity')\n",
        "plt.show()"
      ],
      "execution_count": 0,
      "outputs": [
        {
          "output_type": "display_data",
          "data": {
            "image/png": "[encoded data removed]",
            "text/plain": [
              "<Figure size 1440x360 with 1 Axes>"
            ]
          },
          "metadata": {
            "tags": []
          }
        }
      ]
    },
    {
      "cell_type": "code",
      "metadata": {
        "colab_type": "code",
        "outputId": "30edb17c-89b7-48ef-8752-1afe94c55118",
        "id": "OzGGgZZJ9wVb",
        "colab": {
          "base_uri": "https://localhost:8080/",
          "height": 332
        }
      },
      "source": [
        "plt.figure(1, figsize=(20, 5))\n",
        "data['applicant_sex'].value_counts().plot.bar(title= 'Applicant Sex')\n",
        "plt.show()"
      ],
      "execution_count": 0,
      "outputs": [
        {
          "output_type": "display_data",
          "data": {
            "image/png": "[encoded data removed]",
            "text/plain": [
              "<Figure size 1440x360 with 1 Axes>"
            ]
          },
          "metadata": {
            "tags": []
          }
        }
      ]
    },
    {
      "cell_type": "code",
      "metadata": {
        "colab_type": "code",
        "outputId": "926d53a3-5f73-4d62-9147-9e5199b085d7",
        "id": "iGQYjoiO9wct",
        "colab": {
          "base_uri": "https://localhost:8080/",
          "height": 352
        }
      },
      "source": [
        "plt.figure(1, figsize=(20, 5))\n",
        "data['co_applicant'].value_counts().plot.bar(title= 'Coapplicant')\n",
        "plt.show()"
      ],
      "execution_count": 0,
      "outputs": [
        {
          "output_type": "display_data",
          "data": {
            "image/png": "[encoded data removed]",
            "text/plain": [
              "<Figure size 1440x360 with 1 Axes>"
            ]
          },
          "metadata": {
            "tags": []
          }
        }
      ]
    },
    {
      "cell_type": "markdown",
      "metadata": {
        "id": "K2FKXGYk-ZYM",
        "colab_type": "text"
      },
      "source": [
        "### Categorical Variables (Ordinal)"
      ]
    },
    {
      "cell_type": "code",
      "metadata": {
        "id": "xAi-MkKX-bP2",
        "colab_type": "code",
        "outputId": "21db6a8c-4f77-4f63-cdda-cd6ffe0621e9",
        "colab": {
          "base_uri": "https://localhost:8080/",
          "height": 332
        }
      },
      "source": [
        "plt.figure(1, figsize=(20, 5))\n",
        "data['loan_type'].value_counts().plot.bar(title= 'Loan Type')\n",
        "plt.show()"
      ],
      "execution_count": 0,
      "outputs": [
        {
          "output_type": "display_data",
          "data": {
            "image/png": "[encoded data removed]",
            "text/plain": [
              "<Figure size 1440x360 with 1 Axes>"
            ]
          },
          "metadata": {
            "tags": []
          }
        }
      ]
    },
    {
      "cell_type": "code",
      "metadata": {
        "colab_type": "code",
        "outputId": "7a7ad4c1-af4a-4d95-8e6f-1ced28bb5f96",
        "id": "CUs3dlw4-ov4",
        "colab": {
          "base_uri": "https://localhost:8080/",
          "height": 332
        }
      },
      "source": [
        "plt.figure(1, figsize=(20, 5))\n",
        "data['property_type'].value_counts().plot.bar(title= 'Property Type')\n",
        "plt.show()"
      ],
      "execution_count": 0,
      "outputs": [
        {
          "output_type": "display_data",
          "data": {
            "image/png": "[encoded data removed]",
            "text/plain": [
              "<Figure size 1440x360 with 1 Axes>"
            ]
          },
          "metadata": {
            "tags": []
          }
        }
      ]
    },
    {
      "cell_type": "markdown",
      "metadata": {
        "id": "1Ljpj-Zz-2aV",
        "colab_type": "text"
      },
      "source": [
        "### Numerical Variables"
      ]
    },
    {
      "cell_type": "code",
      "metadata": {
        "id": "HepYMUau-1_Y",
        "colab_type": "code",
        "outputId": "84143dec-5252-4a75-f6ab-97aa8bcad0ef",
        "colab": {
          "base_uri": "https://localhost:8080/",
          "height": 338
        }
      },
      "source": [
        "plt.figure(1) \n",
        "plt.subplot(121) \n",
        "sns.distplot(data['loan_amount']); \n",
        "plt.subplot(122) \n",
        "data['loan_amount'].plot.box(figsize=(20,5)) \n",
        "plt.show()"
      ],
      "execution_count": 0,
      "outputs": [
        {
          "output_type": "display_data",
          "data": {
            "image/png": "[encoded data removed]",
            "text/plain": [
              "<Figure size 1440x360 with 2 Axes>"
            ]
          },
          "metadata": {
            "tags": []
          }
        }
      ]
    },
    {
      "cell_type": "code",
      "metadata": {
        "id": "D0KB-qfA_yML",
        "colab_type": "code",
        "outputId": "859fee79-8695-43d6-d239-fdcb295d1b78",
        "colab": {
          "base_uri": "https://localhost:8080/",
          "height": 312
        }
      },
      "source": [
        "data.boxplot(column='loan_amount', by = 'applicant_sex') \n",
        "plt.suptitle(\"\")"
      ],
      "execution_count": 0,
      "outputs": [
        {
          "output_type": "execute_result",
          "data": {
            "text/plain": [
              "Text(0.5, 0.98, '')"
            ]
          },
          "metadata": {
            "tags": []
          },
          "execution_count": 41
        },
        {
          "output_type": "display_data",
          "data": {
            "image/png": "[encoded data removed]",
            "text/plain": [
              "<Figure size 432x288 with 1 Axes>"
            ]
          },
          "metadata": {
            "tags": []
          }
        }
      ]
    },
    {
      "cell_type": "code",
      "metadata": {
        "id": "zeLCWMZcA_BG",
        "colab_type": "code",
        "outputId": "10ca69c0-d0d6-4553-a595-cd9a382bd90e",
        "colab": {
          "base_uri": "https://localhost:8080/",
          "height": 338
        }
      },
      "source": [
        "plt.figure(1) \n",
        "plt.subplot(121) \n",
        "sns.distplot(data[data['applicant_income'].notnull()]['applicant_income']); \n",
        "plt.subplot(122) \n",
        "data[data['applicant_income'].notnull()]['applicant_income'].plot.box(figsize=(20,5)) \n",
        "plt.show()"
      ],
      "execution_count": 0,
      "outputs": [
        {
          "output_type": "display_data",
          "data": {
            "image/png": "[encoded data removed]",
            "text/plain": [
              "<Figure size 1440x360 with 2 Axes>"
            ]
          },
          "metadata": {
            "tags": []
          }
        }
      ]
    },
    {
      "cell_type": "code",
      "metadata": {
        "id": "aHb0QxUqBTBg",
        "colab_type": "code",
        "outputId": "d452b8d5-7c92-42ae-af3a-1fbfa43955d4",
        "colab": {
          "base_uri": "https://localhost:8080/",
          "height": 337
        }
      },
      "source": [
        "plt.figure(1) \n",
        "plt.subplot(121) \n",
        "sns.distplot(data[data['population'].notnull()]['population']); \n",
        "plt.subplot(122) \n",
        "data[data['population'].notnull()]['population'].plot.box(figsize=(20,5)) \n",
        "plt.show()"
      ],
      "execution_count": 0,
      "outputs": [
        {
          "output_type": "display_data",
          "data": {
            "image/png": "[encoded data removed]",
            "text/plain": [
              "<Figure size 1440x360 with 2 Axes>"
            ]
          },
          "metadata": {
            "tags": []
          }
        }
      ]
    },
    {
      "cell_type": "code",
      "metadata": {
        "colab_type": "code",
        "outputId": "2adec0bf-bd3c-4ebc-af96-87e781834b4e",
        "id": "c-4gU9QLBbdA",
        "colab": {
          "base_uri": "https://localhost:8080/",
          "height": 338
        }
      },
      "source": [
        "plt.figure(1) \n",
        "plt.subplot(121) \n",
        "sns.distplot(data[data['minority_population_pct'].notnull()]['minority_population_pct']);\n",
        "plt.subplot(122) \n",
        "data[data['minority_population_pct'].notnull()]['minority_population_pct'].plot.box(figsize=(20,5)) \n",
        "plt.show()"
      ],
      "execution_count": 0,
      "outputs": [
        {
          "output_type": "display_data",
          "data": {
            "image/png": "[encoded data removed]",
            "text/plain": [
              "<Figure size 1440x360 with 2 Axes>"
            ]
          },
          "metadata": {
            "tags": []
          }
        }
      ]
    },
    {
      "cell_type": "code",
      "metadata": {
        "colab_type": "code",
        "outputId": "76c14d6f-204e-46e4-c2a5-c414195ca57f",
        "id": "6B0uWRfBBb4X",
        "colab": {
          "base_uri": "https://localhost:8080/",
          "height": 338
        }
      },
      "source": [
        "plt.figure(1) \n",
        "plt.subplot(121) \n",
        "sns.distplot(data[data['ffiecmedian_family_income'].notnull()]['ffiecmedian_family_income']); \n",
        "plt.subplot(122) \n",
        "data[data['ffiecmedian_family_income'].notnull()]['ffiecmedian_family_income'].plot.box(figsize=(20,5)) \n",
        "plt.show()"
      ],
      "execution_count": 0,
      "outputs": [
        {
          "output_type": "display_data",
          "data": {
            "image/png": "[encoded data removed]",
            "text/plain": [
              "<Figure size 1440x360 with 2 Axes>"
            ]
          },
          "metadata": {
            "tags": []
          }
        }
      ]
    },
    {
      "cell_type": "code",
      "metadata": {
        "colab_type": "code",
        "outputId": "cb5662c4-222a-4595-9f23-0543e425e807",
        "id": "RZSx8ft5BcEh",
        "colab": {
          "base_uri": "https://localhost:8080/",
          "height": 338
        }
      },
      "source": [
        "plt.figure(1) \n",
        "plt.subplot(121) \n",
        "sns.distplot(data[data['tract_to_msa_md_income_pct'].notnull()]['tract_to_msa_md_income_pct']);\n",
        "plt.subplot(122) \n",
        "data[data['tract_to_msa_md_income_pct'].notnull()]['tract_to_msa_md_income_pct'].plot.box(figsize=(20,5)) \n",
        "plt.show()"
      ],
      "execution_count": 0,
      "outputs": [
        {
          "output_type": "display_data",
          "data": {
            "image/png": "[encoded data removed]",
            "text/plain": [
              "<Figure size 1440x360 with 2 Axes>"
            ]
          },
          "metadata": {
            "tags": []
          }
        }
      ]
    },
    {
      "cell_type": "code",
      "metadata": {
        "colab_type": "code",
        "outputId": "4c7c450c-966f-4424-b8a8-dd4440c9fedb",
        "id": "BeW1cIKJBcMi",
        "colab": {
          "base_uri": "https://localhost:8080/",
          "height": 338
        }
      },
      "source": [
        "plt.figure(1) \n",
        "plt.subplot(121) \n",
        "sns.distplot(data[data['number_of_owner-occupied_units'].notnull()]['number_of_owner-occupied_units']); \n",
        "plt.subplot(122) \n",
        "data[data['number_of_owner-occupied_units'].notnull()]['number_of_owner-occupied_units'].plot.box(figsize=(20,5)) \n",
        "plt.show()"
      ],
      "execution_count": 0,
      "outputs": [
        {
          "output_type": "display_data",
          "data": {
            "image/png": "[encoded data removed]",
            "text/plain": [
              "<Figure size 1440x360 with 2 Axes>"
            ]
          },
          "metadata": {
            "tags": []
          }
        }
      ]
    },
    {
      "cell_type": "code",
      "metadata": {
        "colab_type": "code",
        "outputId": "c43c48e1-624c-4174-9f87-ee453ce593f1",
        "id": "2mYFZZa4BcTV",
        "colab": {
          "base_uri": "https://localhost:8080/",
          "height": 338
        }
      },
      "source": [
        "plt.figure(1) \n",
        "plt.subplot(121) \n",
        "sns.distplot(data[data['number_of_1_to_4_family_units'].notnull()]['number_of_1_to_4_family_units']); \n",
        "plt.subplot(122) \n",
        "data[data['number_of_1_to_4_family_units'].notnull()]['number_of_1_to_4_family_units'].plot.box(figsize=(20,5)) \n",
        "plt.show()"
      ],
      "execution_count": 0,
      "outputs": [
        {
          "output_type": "display_data",
          "data": {
            "image/png": "[encoded data removed]",
            "text/plain": [
              "<Figure size 1440x360 with 2 Axes>"
            ]
          },
          "metadata": {
            "tags": []
          }
        }
      ]
    },
    {
      "cell_type": "markdown",
      "metadata": {
        "id": "xuSrwRxFCSBI",
        "colab_type": "text"
      },
      "source": [
        "## Exploring how Features Correllate with each other (Bivariate Analysis)"
      ]
    },
    {
      "cell_type": "markdown",
      "metadata": {
        "id": "2BwxkiqDnepw",
        "colab_type": "text"
      },
      "source": [
        "Bi-variate Analysis finds out the relationship between two variables. Here, we look for association and disassociation between variables at a pre-defined significance level. We can perform bi-variate analysis for any combination of categorical and continuous variables."
      ]
    },
    {
      "cell_type": "markdown",
      "metadata": {
        "id": "bjMicYLTCUXl",
        "colab_type": "text"
      },
      "source": [
        "### Categorical Independent Variable vs Target Variable"
      ]
    },
    {
      "cell_type": "code",
      "metadata": {
        "id": "JP2VSEW5CYQ2",
        "colab_type": "code",
        "outputId": "5163d6c8-c92c-4e6e-9739-ac4a802b545c",
        "colab": {
          "base_uri": "https://localhost:8080/",
          "height": 358
        }
      },
      "source": [
        "state_code=pd.crosstab(data[data[\"sep\"] == \"Train\"]['state_code'],train_labels['accepted']) \n",
        "state_code.div(state_code.sum(1).astype(float), axis=0).plot(kind=\"bar\", stacked=True, figsize=(20,5))"
      ],
      "execution_count": 0,
      "outputs": [
        {
          "output_type": "execute_result",
          "data": {
            "text/plain": [
              "<matplotlib.axes._subplots.AxesSubplot at 0x7fb6c0075dd8>"
            ]
          },
          "metadata": {
            "tags": []
          },
          "execution_count": 49
        },
        {
          "output_type": "display_data",
          "data": {
            "image/png": "[encoded data removed]",
            "text/plain": [
              "<Figure size 1440x360 with 1 Axes>"
            ]
          },
          "metadata": {
            "tags": []
          }
        }
      ]
    },
    {
      "cell_type": "code",
      "metadata": {
        "colab_type": "code",
        "id": "IoGx6dFQFONq",
        "outputId": "d1452cd0-b1cc-4220-dca9-fadab1da6f78",
        "colab": {
          "base_uri": "https://localhost:8080/",
          "height": 384
        }
      },
      "source": [
        "county_code=pd.crosstab(data[data[\"sep\"] == \"Train\"]['county_code'],train_labels['accepted']) \n",
        "county_code.div(county_code.sum(1).astype(float), axis=0).plot(kind=\"bar\", stacked=True, figsize=(100,5))"
      ],
      "execution_count": 0,
      "outputs": [
        {
          "output_type": "execute_result",
          "data": {
            "text/plain": [
              "<matplotlib.axes._subplots.AxesSubplot at 0x7fb6c0abc470>"
            ]
          },
          "metadata": {
            "tags": []
          },
          "execution_count": 50
        },
        {
          "output_type": "display_data",
          "data": {
            "image/png": "[encoded data removed]",
            "text/plain": [
              "<Figure size 7200x360 with 1 Axes>"
            ]
          },
          "metadata": {
            "tags": []
          }
        }
      ]
    },
    {
      "cell_type": "code",
      "metadata": {
        "colab_type": "code",
        "id": "HKIVufrbG_ml",
        "outputId": "8c6857ed-0ab2-47c1-f943-5dbe4c1cf109",
        "colab": {
          "base_uri": "https://localhost:8080/",
          "height": 351
        }
      },
      "source": [
        "loan_type=pd.crosstab(data[data[\"sep\"] == \"Train\"]['loan_type'],train_labels['accepted']) \n",
        "loan_type.div(loan_type.sum(1).astype(float), axis=0).plot(kind=\"bar\", stacked=True, figsize=(20,5))"
      ],
      "execution_count": 0,
      "outputs": [
        {
          "output_type": "execute_result",
          "data": {
            "text/plain": [
              "<matplotlib.axes._subplots.AxesSubplot at 0x7fb6c05e4e48>"
            ]
          },
          "metadata": {
            "tags": []
          },
          "execution_count": 51
        },
        {
          "output_type": "display_data",
          "data": {
            "image/png": "[encoded data removed]",
            "text/plain": [
              "<Figure size 1440x360 with 1 Axes>"
            ]
          },
          "metadata": {
            "tags": []
          }
        }
      ]
    },
    {
      "cell_type": "code",
      "metadata": {
        "colab_type": "code",
        "id": "K053ervRG_sV",
        "outputId": "d1280323-b183-4fb3-d4a0-362414c1cd94",
        "colab": {
          "base_uri": "https://localhost:8080/",
          "height": 351
        }
      },
      "source": [
        "property_type=pd.crosstab(data[data[\"sep\"] == \"Train\"]['property_type'],train_labels['accepted']) \n",
        "property_type.div(property_type.sum(1).astype(float), axis=0).plot(kind=\"bar\", stacked=True, figsize=(20,5))"
      ],
      "execution_count": 0,
      "outputs": [
        {
          "output_type": "execute_result",
          "data": {
            "text/plain": [
              "<matplotlib.axes._subplots.AxesSubplot at 0x7fb6bfe35da0>"
            ]
          },
          "metadata": {
            "tags": []
          },
          "execution_count": 52
        },
        {
          "output_type": "display_data",
          "data": {
            "image/png": "[encoded data removed]",
            "text/plain": [
              "<Figure size 1440x360 with 1 Axes>"
            ]
          },
          "metadata": {
            "tags": []
          }
        }
      ]
    },
    {
      "cell_type": "code",
      "metadata": {
        "colab_type": "code",
        "id": "IIRXRjKXG_v9",
        "outputId": "e5760b9c-b29b-4c1b-c70e-ca1685b63e4a",
        "colab": {
          "base_uri": "https://localhost:8080/",
          "height": 351
        }
      },
      "source": [
        "loan_purpose=pd.crosstab(data[data[\"sep\"] == \"Train\"]['loan_purpose'],train_labels['accepted']) \n",
        "loan_purpose.div(loan_purpose.sum(1).astype(float), axis=0).plot(kind=\"bar\", stacked=True, figsize=(20,5))"
      ],
      "execution_count": 0,
      "outputs": [
        {
          "output_type": "execute_result",
          "data": {
            "text/plain": [
              "<matplotlib.axes._subplots.AxesSubplot at 0x7fb6bfdc8390>"
            ]
          },
          "metadata": {
            "tags": []
          },
          "execution_count": 53
        },
        {
          "output_type": "display_data",
          "data": {
            "image/png": "[encoded data removed]",
            "text/plain": [
              "<Figure size 1440x360 with 1 Axes>"
            ]
          },
          "metadata": {
            "tags": []
          }
        }
      ]
    },
    {
      "cell_type": "code",
      "metadata": {
        "colab_type": "code",
        "id": "G39AqGQvG_zb",
        "outputId": "7e72ec43-cfdd-40ce-cfd3-c204c5fa428d",
        "colab": {
          "base_uri": "https://localhost:8080/",
          "height": 351
        }
      },
      "source": [
        "occupancy=pd.crosstab(data[data[\"sep\"] == \"Train\"]['occupancy'],train_labels['accepted']) \n",
        "occupancy.div(occupancy.sum(1).astype(float), axis=0).plot(kind=\"bar\", stacked=True, figsize=(20,5))"
      ],
      "execution_count": 0,
      "outputs": [
        {
          "output_type": "execute_result",
          "data": {
            "text/plain": [
              "<matplotlib.axes._subplots.AxesSubplot at 0x7fb6bfd78518>"
            ]
          },
          "metadata": {
            "tags": []
          },
          "execution_count": 54
        },
        {
          "output_type": "display_data",
          "data": {
            "image/png": "[encoded data removed]",
            "text/plain": [
              "<Figure size 1440x360 with 1 Axes>"
            ]
          },
          "metadata": {
            "tags": []
          }
        }
      ]
    },
    {
      "cell_type": "code",
      "metadata": {
        "colab_type": "code",
        "id": "IPng1oRAG_-u",
        "outputId": "5ab84196-ce1b-460e-cd83-f2b8b509693d",
        "colab": {
          "base_uri": "https://localhost:8080/",
          "height": 351
        }
      },
      "source": [
        "preapproval=pd.crosstab(data[data[\"sep\"] == \"Train\"]['preapproval'],train_labels['accepted']) \n",
        "preapproval.div(preapproval.sum(1).astype(float), axis=0).plot(kind=\"bar\", stacked=True, figsize=(20,5))"
      ],
      "execution_count": 0,
      "outputs": [
        {
          "output_type": "execute_result",
          "data": {
            "text/plain": [
              "<matplotlib.axes._subplots.AxesSubplot at 0x7fb6bfce6128>"
            ]
          },
          "metadata": {
            "tags": []
          },
          "execution_count": 55
        },
        {
          "output_type": "display_data",
          "data": {
            "image/png": "[encoded data removed]",
            "text/plain": [
              "<Figure size 1440x360 with 1 Axes>"
            ]
          },
          "metadata": {
            "tags": []
          }
        }
      ]
    },
    {
      "cell_type": "code",
      "metadata": {
        "colab_type": "code",
        "id": "3aqIhYBqG_79",
        "outputId": "40ab30f1-d1fa-49c4-9d58-57332d7d1402",
        "colab": {
          "base_uri": "https://localhost:8080/",
          "height": 351
        }
      },
      "source": [
        "applicant_ethnicity=pd.crosstab(data[data[\"sep\"] == \"Train\"]['applicant_ethnicity'],train_labels['accepted']) \n",
        "applicant_ethnicity.div(applicant_ethnicity.sum(1).astype(float), axis=0).plot(kind=\"bar\", stacked=True, figsize=(20,5))"
      ],
      "execution_count": 0,
      "outputs": [
        {
          "output_type": "execute_result",
          "data": {
            "text/plain": [
              "<matplotlib.axes._subplots.AxesSubplot at 0x7fb6bfcc8128>"
            ]
          },
          "metadata": {
            "tags": []
          },
          "execution_count": 56
        },
        {
          "output_type": "display_data",
          "data": {
            "image/png": "[encoded data removed]",
            "text/plain": [
              "<Figure size 1440x360 with 1 Axes>"
            ]
          },
          "metadata": {
            "tags": []
          }
        }
      ]
    },
    {
      "cell_type": "code",
      "metadata": {
        "colab_type": "code",
        "id": "PcevniPIG_5D",
        "outputId": "9cc4ff43-b69c-40e0-f7d4-711efeecdab9",
        "colab": {
          "base_uri": "https://localhost:8080/",
          "height": 351
        }
      },
      "source": [
        "applicant_sex=pd.crosstab(data[data[\"sep\"] == \"Train\"]['applicant_sex'],train_labels['accepted']) \n",
        "applicant_sex.div(applicant_sex.sum(1).astype(float), axis=0).plot(kind=\"bar\", stacked=True, figsize=(20,5))"
      ],
      "execution_count": 0,
      "outputs": [
        {
          "output_type": "execute_result",
          "data": {
            "text/plain": [
              "<matplotlib.axes._subplots.AxesSubplot at 0x7fb6bfc38a90>"
            ]
          },
          "metadata": {
            "tags": []
          },
          "execution_count": 57
        },
        {
          "output_type": "display_data",
          "data": {
            "image/png": "[encoded data removed]",
            "text/plain": [
              "<Figure size 1440x360 with 1 Axes>"
            ]
          },
          "metadata": {
            "tags": []
          }
        }
      ]
    },
    {
      "cell_type": "code",
      "metadata": {
        "colab_type": "code",
        "id": "H2iUwXABG_2b",
        "outputId": "41ca5354-c879-4e98-c5bc-02b87dc5cfe4",
        "colab": {
          "base_uri": "https://localhost:8080/",
          "height": 371
        }
      },
      "source": [
        "co_applicant=pd.crosstab(data[data[\"sep\"] == \"Train\"]['co_applicant'],train_labels['accepted']) \n",
        "co_applicant.div(co_applicant.sum(1).astype(float), axis=0).plot(kind=\"bar\", stacked=True, figsize=(20,5))"
      ],
      "execution_count": 0,
      "outputs": [
        {
          "output_type": "execute_result",
          "data": {
            "text/plain": [
              "<matplotlib.axes._subplots.AxesSubplot at 0x7fb6bfb9f9e8>"
            ]
          },
          "metadata": {
            "tags": []
          },
          "execution_count": 58
        },
        {
          "output_type": "display_data",
          "data": {
            "image/png": "[encoded data removed]",
            "text/plain": [
              "<Figure size 1440x360 with 1 Axes>"
            ]
          },
          "metadata": {
            "tags": []
          }
        }
      ]
    },
    {
      "cell_type": "markdown",
      "metadata": {
        "id": "NJL0ZPqfM0WN",
        "colab_type": "text"
      },
      "source": [
        "### Numerical Independent Variable vs Target Variable"
      ]
    },
    {
      "cell_type": "code",
      "metadata": {
        "id": "U1b6kk5YNafT",
        "colab_type": "code",
        "colab": {}
      },
      "source": [
        "data_plot = pd.merge(data[data[\"sep\"] == \"Train\"], train_labels, on='row_id')"
      ],
      "execution_count": 0,
      "outputs": []
    },
    {
      "cell_type": "code",
      "metadata": {
        "id": "xH-dhVXoCYZP",
        "colab_type": "code",
        "outputId": "74996b6e-eda1-48fd-bdf2-0a1eeef1ff8a",
        "colab": {
          "base_uri": "https://localhost:8080/",
          "height": 296
        }
      },
      "source": [
        "# mean loan amount for which the loan has been approved vs the mean loan amount for which the loan has not been approved\n",
        "data_plot.groupby('accepted')['loan_amount'].mean().plot.bar()"
      ],
      "execution_count": 0,
      "outputs": [
        {
          "output_type": "execute_result",
          "data": {
            "text/plain": [
              "<matplotlib.axes._subplots.AxesSubplot at 0x7fb6bfcadb70>"
            ]
          },
          "metadata": {
            "tags": []
          },
          "execution_count": 60
        },
        {
          "output_type": "display_data",
          "data": {
            "image/png": "[encoded data removed]",
            "text/plain": [
              "<Figure size 432x288 with 1 Axes>"
            ]
          },
          "metadata": {
            "tags": []
          }
        }
      ]
    },
    {
      "cell_type": "code",
      "metadata": {
        "id": "Z6EQWyVkMo6v",
        "colab_type": "code",
        "outputId": "74cbeac9-90cb-4f51-910b-6275662b0a14",
        "colab": {
          "base_uri": "https://localhost:8080/",
          "height": 296
        }
      },
      "source": [
        "# mean income of people for which the loan has been approved vs the mean income of people for which the loan has not been approved\n",
        "data_plot.groupby('accepted')['applicant_income'].mean().plot.bar()"
      ],
      "execution_count": 0,
      "outputs": [
        {
          "output_type": "execute_result",
          "data": {
            "text/plain": [
              "<matplotlib.axes._subplots.AxesSubplot at 0x7fb6bfb43198>"
            ]
          },
          "metadata": {
            "tags": []
          },
          "execution_count": 61
        },
        {
          "output_type": "display_data",
          "data": {
            "image/png": "[encoded data removed]",
            "text/plain": [
              "<Figure size 432x288 with 1 Axes>"
            ]
          },
          "metadata": {
            "tags": []
          }
        }
      ]
    },
    {
      "cell_type": "code",
      "metadata": {
        "id": "uwTJIS8ZMo4D",
        "colab_type": "code",
        "outputId": "bfe27d52-d6b3-4e12-cd80-d3d1b90ed98b",
        "colab": {
          "base_uri": "https://localhost:8080/",
          "height": 296
        }
      },
      "source": [
        "data_plot.groupby('accepted')['population'].mean().plot.bar()"
      ],
      "execution_count": 0,
      "outputs": [
        {
          "output_type": "execute_result",
          "data": {
            "text/plain": [
              "<matplotlib.axes._subplots.AxesSubplot at 0x7fb6bfab0c18>"
            ]
          },
          "metadata": {
            "tags": []
          },
          "execution_count": 62
        },
        {
          "output_type": "display_data",
          "data": {
            "image/png": "[encoded data removed]",
            "text/plain": [
              "<Figure size 432x288 with 1 Axes>"
            ]
          },
          "metadata": {
            "tags": []
          }
        }
      ]
    },
    {
      "cell_type": "code",
      "metadata": {
        "id": "3D-MLiE4Pd2Y",
        "colab_type": "code",
        "outputId": "a38d4dd6-4ade-40f1-eb83-0341deb7de4f",
        "colab": {
          "base_uri": "https://localhost:8080/",
          "height": 340
        }
      },
      "source": [
        "bins=[0,2500,5000,7500, 10000, 12500, 15000, 17500, 20000, 22500, 25000, 27500, 30000, 32500, 35000, 37500, 40000] \n",
        "group=['1','2','3', '4', '5', '6', '7', '8', '9', '10', '11', '12', '13', '14', '15', '16'] \n",
        "data_plot['population_bin']=pd.cut(data_plot['population'],bins,labels=group)\n",
        "population_bin=pd.crosstab(data_plot['population_bin'],data_plot['accepted']) \n",
        "population_bin.div(population_bin.sum(1).astype(float), axis=0).plot(kind=\"bar\", stacked=True, figsize=(20,5)) \n",
        "plt.xlabel('Population') \n",
        "P = plt.ylabel('Percentage')"
      ],
      "execution_count": 0,
      "outputs": [
        {
          "output_type": "display_data",
          "data": {
            "image/png": "[encoded data removed]",
            "text/plain": [
              "<Figure size 1440x360 with 1 Axes>"
            ]
          },
          "metadata": {
            "tags": []
          }
        }
      ]
    },
    {
      "cell_type": "code",
      "metadata": {
        "id": "isWlpow6ayZB",
        "colab_type": "code",
        "outputId": "981a1173-fea4-434e-e473-5b125add662e",
        "colab": {
          "base_uri": "https://localhost:8080/",
          "height": 296
        }
      },
      "source": [
        "data_plot.groupby('accepted')['minority_population_pct'].mean().plot.bar()"
      ],
      "execution_count": 0,
      "outputs": [
        {
          "output_type": "execute_result",
          "data": {
            "text/plain": [
              "<matplotlib.axes._subplots.AxesSubplot at 0x7fb6bfa035c0>"
            ]
          },
          "metadata": {
            "tags": []
          },
          "execution_count": 64
        },
        {
          "output_type": "display_data",
          "data": {
            "image/png": "[encoded data removed]",
            "text/plain": [
              "<Figure size 432x288 with 1 Axes>"
            ]
          },
          "metadata": {
            "tags": []
          }
        }
      ]
    },
    {
      "cell_type": "code",
      "metadata": {
        "id": "hoRIzAGGayWw",
        "colab_type": "code",
        "outputId": "3e27d83e-55f5-4fc2-d004-51e07dcf8315",
        "colab": {
          "base_uri": "https://localhost:8080/",
          "height": 296
        }
      },
      "source": [
        "data_plot.groupby('accepted')['ffiecmedian_family_income'].mean().plot.bar()"
      ],
      "execution_count": 0,
      "outputs": [
        {
          "output_type": "execute_result",
          "data": {
            "text/plain": [
              "<matplotlib.axes._subplots.AxesSubplot at 0x7fb6bf90cd30>"
            ]
          },
          "metadata": {
            "tags": []
          },
          "execution_count": 65
        },
        {
          "output_type": "display_data",
          "data": {
            "image/png": "[encoded data removed]",
            "text/plain": [
              "<Figure size 432x288 with 1 Axes>"
            ]
          },
          "metadata": {
            "tags": []
          }
        }
      ]
    },
    {
      "cell_type": "code",
      "metadata": {
        "id": "6oNUtGCIcaTo",
        "colab_type": "code",
        "outputId": "8a552d92-1f07-4c20-e143-9ea8abcffb8e",
        "colab": {
          "base_uri": "https://localhost:8080/",
          "height": 296
        }
      },
      "source": [
        "data_plot.groupby('accepted')['tract_to_msa_md_income_pct'].mean().plot.bar()"
      ],
      "execution_count": 0,
      "outputs": [
        {
          "output_type": "execute_result",
          "data": {
            "text/plain": [
              "<matplotlib.axes._subplots.AxesSubplot at 0x7fb6bf8fafd0>"
            ]
          },
          "metadata": {
            "tags": []
          },
          "execution_count": 66
        },
        {
          "output_type": "display_data",
          "data": {
            "image/png": "[encoded data removed]",
            "text/plain": [
              "<Figure size 432x288 with 1 Axes>"
            ]
          },
          "metadata": {
            "tags": []
          }
        }
      ]
    },
    {
      "cell_type": "code",
      "metadata": {
        "id": "SdjbawWEfpIz",
        "colab_type": "code",
        "outputId": "01617c76-b25b-4fbc-bf71-8d273f47d176",
        "colab": {
          "base_uri": "https://localhost:8080/",
          "height": 296
        }
      },
      "source": [
        "data_plot.groupby('accepted')['number_of_owner-occupied_units'].mean().plot.bar()"
      ],
      "execution_count": 0,
      "outputs": [
        {
          "output_type": "execute_result",
          "data": {
            "text/plain": [
              "<matplotlib.axes._subplots.AxesSubplot at 0x7fb6bf8c9b70>"
            ]
          },
          "metadata": {
            "tags": []
          },
          "execution_count": 67
        },
        {
          "output_type": "display_data",
          "data": {
            "image/png": "[encoded data removed]",
            "text/plain": [
              "<Figure size 432x288 with 1 Axes>"
            ]
          },
          "metadata": {
            "tags": []
          }
        }
      ]
    },
    {
      "cell_type": "code",
      "metadata": {
        "id": "opUeGvZ-f288",
        "colab_type": "code",
        "outputId": "ab164c0f-2eb7-436b-b7a8-147da521192c",
        "colab": {
          "base_uri": "https://localhost:8080/",
          "height": 296
        }
      },
      "source": [
        "data_plot.groupby('accepted')['number_of_1_to_4_family_units'].mean().plot.bar()"
      ],
      "execution_count": 0,
      "outputs": [
        {
          "output_type": "execute_result",
          "data": {
            "text/plain": [
              "<matplotlib.axes._subplots.AxesSubplot at 0x7fb6bf9f1f60>"
            ]
          },
          "metadata": {
            "tags": []
          },
          "execution_count": 68
        },
        {
          "output_type": "display_data",
          "data": {
            "image/png": "[encoded data removed]",
            "text/plain": [
              "<Figure size 432x288 with 1 Axes>"
            ]
          },
          "metadata": {
            "tags": []
          }
        }
      ]
    },
    {
      "cell_type": "markdown",
      "metadata": {
        "id": "6YDzPsWkyKXe",
        "colab_type": "text"
      },
      "source": [
        "## Handling missing values"
      ]
    },
    {
      "cell_type": "markdown",
      "metadata": {
        "id": "EKXtwVcTogc5",
        "colab_type": "text"
      },
      "source": [
        "### Why missing values treatment is required?\n",
        "Missing data in the training data set can reduce the power/fit of a model or can lead to a biased model because we have not analysed the behavior and relationship with other variables correctly. It can lead to wrong prediction or classification."
      ]
    },
    {
      "cell_type": "markdown",
      "metadata": {
        "id": "DGecOgp0oxHp",
        "colab_type": "text"
      },
      "source": [
        "Mean/Mode/Median imputation is one of the most frequently used methods. It consists of replacing the missing data for a given attribute by the mean or median (quantitative attribute) or mode (qualitative attribute) of all known values of that variable. It can be of two types:-\n",
        "Generalized Imputation: In this case, we calculate the mean or median for all non missing values of that variable then replace missing value with mean or median. Like in above table, variable “Manpower” is missing so we take average of all non missing values of “Manpower”  (28.33) and then replace missing value with it."
      ]
    },
    {
      "cell_type": "code",
      "metadata": {
        "id": "b5-DzbAXidsQ",
        "colab_type": "code",
        "outputId": "3776ba5f-eee1-4722-96a6-f6b1a282ab7a",
        "colab": {
          "base_uri": "https://localhost:8080/",
          "height": 386
        }
      },
      "source": [
        "data.isna().sum()"
      ],
      "execution_count": 0,
      "outputs": [
        {
          "output_type": "execute_result",
          "data": {
            "text/plain": [
              "row_id                                0\n",
              "loan_type                             0\n",
              "property_type                         0\n",
              "loan_purpose                          0\n",
              "occupancy                             0\n",
              "loan_amount                           0\n",
              "preapproval                           0\n",
              "state_code                            0\n",
              "county_code                           0\n",
              "applicant_ethnicity                   0\n",
              "applicant_race                        0\n",
              "applicant_sex                         0\n",
              "applicant_income                  80089\n",
              "population                        44945\n",
              "minority_population_pct           44948\n",
              "ffiecmedian_family_income         44893\n",
              "tract_to_msa_md_income_pct        45031\n",
              "number_of_owner-occupied_units    45139\n",
              "number_of_1_to_4_family_units     45080\n",
              "co_applicant                          0\n",
              "sep                                   0\n",
              "dtype: int64"
            ]
          },
          "metadata": {
            "tags": []
          },
          "execution_count": 70
        }
      ]
    },
    {
      "cell_type": "markdown",
      "metadata": {
        "id": "ThgMRXFAyXIg",
        "colab_type": "text"
      },
      "source": [
        "## Handling categorical variables"
      ]
    },
    {
      "cell_type": "markdown",
      "metadata": {
        "id": "zgeZLzzvpPdI",
        "colab_type": "text"
      },
      "source": [
        "For categorical variables, mode imputation was used"
      ]
    },
    {
      "cell_type": "code",
      "metadata": {
        "id": "PnAogfctyzUh",
        "colab_type": "code",
        "colab": {}
      },
      "source": [
        "data.state_code = data.state_code.replace(-1, data.state_code.mode().values[0]).astype(\"int64\")\n",
        "data.county_code = data.county_code.replace(-1, 20).astype(\"int64\")\n",
        "data.occupancy = data.occupancy.replace(3, data.occupancy.mode().values[0]).astype(\"int64\")\n",
        "data.preapproval = data.preapproval.replace(3, 2).astype(\"int64\")\n",
        "data.applicant_ethnicity = data.applicant_ethnicity.replace(4, data.applicant_ethnicity.mode().values[0]).astype(\"int64\")\n",
        "data.applicant_sex = data.applicant_sex.replace(3, data.applicant_sex.mode().values[0]).astype(\"int64\")\n",
        "data.applicant_sex = data.applicant_sex.replace(4, data.applicant_sex.mode().values[0]).astype(\"int64\")\n",
        "data = data.drop(['applicant_race'],axis=1)"
      ],
      "execution_count": 0,
      "outputs": []
    },
    {
      "cell_type": "markdown",
      "metadata": {
        "id": "gRJHijrhyKYF",
        "colab_type": "text"
      },
      "source": [
        "## Handling numerical variables"
      ]
    },
    {
      "cell_type": "markdown",
      "metadata": {
        "id": "c9AcqTvpplVU",
        "colab_type": "text"
      },
      "source": [
        "For numerical variables, median imputation was used. Mean was not used due to its sensitivity to outliers"
      ]
    },
    {
      "cell_type": "code",
      "metadata": {
        "id": "2fwOBWaIC8eQ",
        "colab_type": "code",
        "colab": {}
      },
      "source": [
        "#to fill the missing numeric variables by mean\n",
        "data.applicant_income = data.applicant_income.fillna(data.applicant_income.mean())\n",
        "data.population = data.population.fillna(data.population.mean())\n",
        "data.minority_population_pct = data.minority_population_pct.fillna(data.minority_population_pct.mean())\n",
        "data.ffiecmedian_family_income = data.ffiecmedian_family_income.fillna(data.ffiecmedian_family_income.mean())\n",
        "data.tract_to_msa_md_income_pct = data.tract_to_msa_md_income_pct.fillna(data.tract_to_msa_md_income_pct.mean())\n",
        "data[\"number_of_owner-occupied_units\"] = data[\"number_of_owner-occupied_units\"].fillna(data[\"number_of_owner-occupied_units\"].mean())\n",
        "data.number_of_1_to_4_family_units = data.number_of_1_to_4_family_units.fillna(data.number_of_1_to_4_family_units.mean())"
      ],
      "execution_count": 0,
      "outputs": []
    },
    {
      "cell_type": "markdown",
      "metadata": {
        "id": "F5bRiADbpoDr",
        "colab_type": "text"
      },
      "source": [
        "Check whether there are still missing values"
      ]
    },
    {
      "cell_type": "code",
      "metadata": {
        "id": "BR19s9SKClzU",
        "colab_type": "code",
        "outputId": "b36b314c-4d0b-42b1-ede3-d1f56f7b9bec",
        "colab": {
          "base_uri": "https://localhost:8080/",
          "height": 370
        }
      },
      "source": [
        "data.apply(lambda x: sum(x.isnull()),axis=0)"
      ],
      "execution_count": 0,
      "outputs": [
        {
          "output_type": "execute_result",
          "data": {
            "text/plain": [
              "row_id                            0\n",
              "loan_type                         0\n",
              "property_type                     0\n",
              "loan_purpose                      0\n",
              "occupancy                         0\n",
              "loan_amount                       0\n",
              "preapproval                       0\n",
              "state_code                        0\n",
              "county_code                       0\n",
              "applicant_ethnicity               0\n",
              "applicant_sex                     0\n",
              "applicant_income                  0\n",
              "population                        0\n",
              "minority_population_pct           0\n",
              "ffiecmedian_family_income         0\n",
              "tract_to_msa_md_income_pct        0\n",
              "number_of_owner-occupied_units    0\n",
              "number_of_1_to_4_family_units     0\n",
              "co_applicant                      0\n",
              "sep                               0\n",
              "dtype: int64"
            ]
          },
          "metadata": {
            "tags": []
          },
          "execution_count": 75
        }
      ]
    },
    {
      "cell_type": "markdown",
      "metadata": {
        "id": "FPHhGiEIhODY",
        "colab_type": "text"
      },
      "source": [
        "## Feature Engineering"
      ]
    },
    {
      "cell_type": "markdown",
      "metadata": {
        "id": "KPRy-3Ssp0Lp",
        "colab_type": "text"
      },
      "source": [
        "### What is Feature Engineering?\n",
        "Feature engineering is the science (and art) of extracting more information from existing data. You are not adding any new data here, but you are actually making the data you already have more useful.\n",
        "\n",
        "For example, let’s say you are trying to predict foot fall in a shopping mall based on dates. If you try and use the dates directly, you may not be able to extract meaningful insights from the data. This is because the foot fall is less affected by the day of the month than it is by the day of the week. Now this information about day of week is implicit in your data. You need to bring it out to make your model better."
      ]
    },
    {
      "cell_type": "code",
      "metadata": {
        "id": "OUVnVIwFFZI3",
        "colab_type": "code",
        "outputId": "23eb1523-c67d-4229-e4c1-73a7adbb9730",
        "colab": {
          "base_uri": "https://localhost:8080/",
          "height": 232
        }
      },
      "source": [
        "data[\"co_applicant\"] = data[\"co_applicant\"].map({True:1, False:0})\n",
        "data.head()"
      ],
      "execution_count": 0,
      "outputs": [
        {
          "output_type": "execute_result",
          "data": {
            "text/html": [
              "<div>\n",
              "<style scoped>\n",
              "    .dataframe tbody tr th:only-of-type {\n",
              "        vertical-align: middle;\n",
              "    }\n",
              "\n",
              "    .dataframe tbody tr th {\n",
              "        vertical-align: top;\n",
              "    }\n",
              "\n",
              "    .dataframe thead th {\n",
              "        text-align: right;\n",
              "    }\n",
              "</style>\n",
              "<table border=\"1\" class=\"dataframe\">\n",
              "  <thead>\n",
              "    <tr style=\"text-align: right;\">\n",
              "      <th></th>\n",
              "      <th>row_id</th>\n",
              "      <th>loan_type</th>\n",
              "      <th>property_type</th>\n",
              "      <th>loan_purpose</th>\n",
              "      <th>occupancy</th>\n",
              "      <th>loan_amount</th>\n",
              "      <th>preapproval</th>\n",
              "      <th>state_code</th>\n",
              "      <th>county_code</th>\n",
              "      <th>applicant_ethnicity</th>\n",
              "      <th>applicant_sex</th>\n",
              "      <th>applicant_income</th>\n",
              "      <th>population</th>\n",
              "      <th>minority_population_pct</th>\n",
              "      <th>ffiecmedian_family_income</th>\n",
              "      <th>tract_to_msa_md_income_pct</th>\n",
              "      <th>number_of_owner-occupied_units</th>\n",
              "      <th>number_of_1_to_4_family_units</th>\n",
              "      <th>co_applicant</th>\n",
              "      <th>sep</th>\n",
              "    </tr>\n",
              "  </thead>\n",
              "  <tbody>\n",
              "    <tr>\n",
              "      <th>0</th>\n",
              "      <td>0</td>\n",
              "      <td>3</td>\n",
              "      <td>1</td>\n",
              "      <td>1</td>\n",
              "      <td>1</td>\n",
              "      <td>70.0</td>\n",
              "      <td>2</td>\n",
              "      <td>37</td>\n",
              "      <td>246</td>\n",
              "      <td>2</td>\n",
              "      <td>1</td>\n",
              "      <td>24.0</td>\n",
              "      <td>6203.0</td>\n",
              "      <td>44.230</td>\n",
              "      <td>60588.0</td>\n",
              "      <td>50.933</td>\n",
              "      <td>716.0</td>\n",
              "      <td>2642.0</td>\n",
              "      <td>0</td>\n",
              "      <td>Train</td>\n",
              "    </tr>\n",
              "    <tr>\n",
              "      <th>1</th>\n",
              "      <td>1</td>\n",
              "      <td>1</td>\n",
              "      <td>1</td>\n",
              "      <td>3</td>\n",
              "      <td>1</td>\n",
              "      <td>178.0</td>\n",
              "      <td>2</td>\n",
              "      <td>52</td>\n",
              "      <td>299</td>\n",
              "      <td>1</td>\n",
              "      <td>1</td>\n",
              "      <td>57.0</td>\n",
              "      <td>5774.0</td>\n",
              "      <td>15.905</td>\n",
              "      <td>54821.0</td>\n",
              "      <td>100.000</td>\n",
              "      <td>1622.0</td>\n",
              "      <td>2108.0</td>\n",
              "      <td>0</td>\n",
              "      <td>Train</td>\n",
              "    </tr>\n",
              "    <tr>\n",
              "      <th>2</th>\n",
              "      <td>2</td>\n",
              "      <td>2</td>\n",
              "      <td>1</td>\n",
              "      <td>3</td>\n",
              "      <td>1</td>\n",
              "      <td>163.0</td>\n",
              "      <td>2</td>\n",
              "      <td>10</td>\n",
              "      <td>306</td>\n",
              "      <td>2</td>\n",
              "      <td>1</td>\n",
              "      <td>67.0</td>\n",
              "      <td>6094.0</td>\n",
              "      <td>61.270</td>\n",
              "      <td>67719.0</td>\n",
              "      <td>100.000</td>\n",
              "      <td>760.0</td>\n",
              "      <td>1048.0</td>\n",
              "      <td>0</td>\n",
              "      <td>Train</td>\n",
              "    </tr>\n",
              "    <tr>\n",
              "      <th>3</th>\n",
              "      <td>3</td>\n",
              "      <td>1</td>\n",
              "      <td>1</td>\n",
              "      <td>1</td>\n",
              "      <td>1</td>\n",
              "      <td>155.0</td>\n",
              "      <td>1</td>\n",
              "      <td>47</td>\n",
              "      <td>180</td>\n",
              "      <td>2</td>\n",
              "      <td>1</td>\n",
              "      <td>105.0</td>\n",
              "      <td>6667.0</td>\n",
              "      <td>6.246</td>\n",
              "      <td>78439.0</td>\n",
              "      <td>100.000</td>\n",
              "      <td>2025.0</td>\n",
              "      <td>2299.0</td>\n",
              "      <td>1</td>\n",
              "      <td>Train</td>\n",
              "    </tr>\n",
              "    <tr>\n",
              "      <th>4</th>\n",
              "      <td>4</td>\n",
              "      <td>1</td>\n",
              "      <td>1</td>\n",
              "      <td>1</td>\n",
              "      <td>1</td>\n",
              "      <td>305.0</td>\n",
              "      <td>2</td>\n",
              "      <td>37</td>\n",
              "      <td>20</td>\n",
              "      <td>2</td>\n",
              "      <td>2</td>\n",
              "      <td>71.0</td>\n",
              "      <td>6732.0</td>\n",
              "      <td>100.000</td>\n",
              "      <td>63075.0</td>\n",
              "      <td>82.200</td>\n",
              "      <td>1464.0</td>\n",
              "      <td>1847.0</td>\n",
              "      <td>0</td>\n",
              "      <td>Train</td>\n",
              "    </tr>\n",
              "  </tbody>\n",
              "</table>\n",
              "</div>"
            ],
            "text/plain": [
              "   row_id  loan_type  ...  co_applicant    sep\n",
              "0       0          3  ...             0  Train\n",
              "1       1          1  ...             0  Train\n",
              "2       2          2  ...             0  Train\n",
              "3       3          1  ...             1  Train\n",
              "4       4          1  ...             0  Train\n",
              "\n",
              "[5 rows x 20 columns]"
            ]
          },
          "metadata": {
            "tags": []
          },
          "execution_count": 76
        }
      ]
    },
    {
      "cell_type": "markdown",
      "metadata": {
        "id": "pM1mZJ3PrE2j",
        "colab_type": "text"
      },
      "source": [
        "## Get dummy variable"
      ]
    },
    {
      "cell_type": "code",
      "metadata": {
        "id": "rjJ15WK8rGc0",
        "colab_type": "code",
        "outputId": "655a7941-4219-4ec0-f54d-e23ba9fb1969",
        "colab": {
          "base_uri": "https://localhost:8080/",
          "height": 34
        }
      },
      "source": [
        "# identifying categorical features\n",
        "categorical_features = ['loan_type', 'property_type', 'loan_purpose', 'occupancy', 'preapproval', 'applicant_ethnicity', 'applicant_sex', 'co_applicant']\n",
        "print(categorical_features)"
      ],
      "execution_count": 0,
      "outputs": [
        {
          "output_type": "stream",
          "text": [
            "['loan_type', 'property_type', 'loan_purpose', 'occupancy', 'preapproval', 'applicant_ethnicity', 'applicant_sex', 'co_applicant']\n"
          ],
          "name": "stdout"
        }
      ]
    },
    {
      "cell_type": "code",
      "metadata": {
        "id": "9E1mQchWr85e",
        "colab_type": "code",
        "colab": {}
      },
      "source": [
        "data = pd.get_dummies(data, columns = [x for x in categorical_features])"
      ],
      "execution_count": 0,
      "outputs": []
    },
    {
      "cell_type": "code",
      "metadata": {
        "id": "pzWrmPTkINtF",
        "colab_type": "code",
        "outputId": "e97fa09d-8340-4ba5-abf9-6e331eba96ae",
        "colab": {
          "base_uri": "https://localhost:8080/",
          "height": 34
        }
      },
      "source": [
        "train = data[data.sep == \"Train\"]\n",
        "test = data[data.sep == \"Test\"]\n",
        "train = train.drop(['sep'],axis=1)\n",
        "test = test.drop(['sep'],axis=1)\n",
        "print(len(train), len(test))"
      ],
      "execution_count": 0,
      "outputs": [
        {
          "output_type": "stream",
          "text": [
            "500000 500000\n"
          ],
          "name": "stdout"
        }
      ]
    },
    {
      "cell_type": "code",
      "metadata": {
        "id": "_0OKxZdcJ75W",
        "colab_type": "code",
        "outputId": "5c98c754-108b-47e2-a554-4976246656b7",
        "colab": {
          "base_uri": "https://localhost:8080/",
          "height": 232
        }
      },
      "source": [
        "train = pd.merge(train, train_labels, on='row_id')\n",
        "train.head()"
      ],
      "execution_count": 0,
      "outputs": [
        {
          "output_type": "execute_result",
          "data": {
            "text/html": [
              "<div>\n",
              "<style scoped>\n",
              "    .dataframe tbody tr th:only-of-type {\n",
              "        vertical-align: middle;\n",
              "    }\n",
              "\n",
              "    .dataframe tbody tr th {\n",
              "        vertical-align: top;\n",
              "    }\n",
              "\n",
              "    .dataframe thead th {\n",
              "        text-align: right;\n",
              "    }\n",
              "</style>\n",
              "<table border=\"1\" class=\"dataframe\">\n",
              "  <thead>\n",
              "    <tr style=\"text-align: right;\">\n",
              "      <th></th>\n",
              "      <th>row_id</th>\n",
              "      <th>loan_amount</th>\n",
              "      <th>state_code</th>\n",
              "      <th>county_code</th>\n",
              "      <th>applicant_income</th>\n",
              "      <th>population</th>\n",
              "      <th>minority_population_pct</th>\n",
              "      <th>ffiecmedian_family_income</th>\n",
              "      <th>tract_to_msa_md_income_pct</th>\n",
              "      <th>number_of_owner-occupied_units</th>\n",
              "      <th>number_of_1_to_4_family_units</th>\n",
              "      <th>loan_type_1</th>\n",
              "      <th>loan_type_2</th>\n",
              "      <th>loan_type_3</th>\n",
              "      <th>loan_type_4</th>\n",
              "      <th>property_type_1</th>\n",
              "      <th>property_type_2</th>\n",
              "      <th>property_type_3</th>\n",
              "      <th>loan_purpose_1</th>\n",
              "      <th>loan_purpose_2</th>\n",
              "      <th>loan_purpose_3</th>\n",
              "      <th>occupancy_1</th>\n",
              "      <th>occupancy_2</th>\n",
              "      <th>preapproval_1</th>\n",
              "      <th>preapproval_2</th>\n",
              "      <th>applicant_ethnicity_1</th>\n",
              "      <th>applicant_ethnicity_2</th>\n",
              "      <th>applicant_ethnicity_3</th>\n",
              "      <th>applicant_sex_1</th>\n",
              "      <th>applicant_sex_2</th>\n",
              "      <th>co_applicant_0</th>\n",
              "      <th>co_applicant_1</th>\n",
              "      <th>accepted</th>\n",
              "    </tr>\n",
              "  </thead>\n",
              "  <tbody>\n",
              "    <tr>\n",
              "      <th>0</th>\n",
              "      <td>0</td>\n",
              "      <td>70.0</td>\n",
              "      <td>37</td>\n",
              "      <td>246</td>\n",
              "      <td>24.0</td>\n",
              "      <td>6203.0</td>\n",
              "      <td>44.230</td>\n",
              "      <td>60588.0</td>\n",
              "      <td>50.933</td>\n",
              "      <td>716.0</td>\n",
              "      <td>2642.0</td>\n",
              "      <td>0</td>\n",
              "      <td>0</td>\n",
              "      <td>1</td>\n",
              "      <td>0</td>\n",
              "      <td>1</td>\n",
              "      <td>0</td>\n",
              "      <td>0</td>\n",
              "      <td>1</td>\n",
              "      <td>0</td>\n",
              "      <td>0</td>\n",
              "      <td>1</td>\n",
              "      <td>0</td>\n",
              "      <td>0</td>\n",
              "      <td>1</td>\n",
              "      <td>0</td>\n",
              "      <td>1</td>\n",
              "      <td>0</td>\n",
              "      <td>1</td>\n",
              "      <td>0</td>\n",
              "      <td>1</td>\n",
              "      <td>0</td>\n",
              "      <td>1</td>\n",
              "    </tr>\n",
              "    <tr>\n",
              "      <th>1</th>\n",
              "      <td>1</td>\n",
              "      <td>178.0</td>\n",
              "      <td>52</td>\n",
              "      <td>299</td>\n",
              "      <td>57.0</td>\n",
              "      <td>5774.0</td>\n",
              "      <td>15.905</td>\n",
              "      <td>54821.0</td>\n",
              "      <td>100.000</td>\n",
              "      <td>1622.0</td>\n",
              "      <td>2108.0</td>\n",
              "      <td>1</td>\n",
              "      <td>0</td>\n",
              "      <td>0</td>\n",
              "      <td>0</td>\n",
              "      <td>1</td>\n",
              "      <td>0</td>\n",
              "      <td>0</td>\n",
              "      <td>0</td>\n",
              "      <td>0</td>\n",
              "      <td>1</td>\n",
              "      <td>1</td>\n",
              "      <td>0</td>\n",
              "      <td>0</td>\n",
              "      <td>1</td>\n",
              "      <td>1</td>\n",
              "      <td>0</td>\n",
              "      <td>0</td>\n",
              "      <td>1</td>\n",
              "      <td>0</td>\n",
              "      <td>1</td>\n",
              "      <td>0</td>\n",
              "      <td>0</td>\n",
              "    </tr>\n",
              "    <tr>\n",
              "      <th>2</th>\n",
              "      <td>2</td>\n",
              "      <td>163.0</td>\n",
              "      <td>10</td>\n",
              "      <td>306</td>\n",
              "      <td>67.0</td>\n",
              "      <td>6094.0</td>\n",
              "      <td>61.270</td>\n",
              "      <td>67719.0</td>\n",
              "      <td>100.000</td>\n",
              "      <td>760.0</td>\n",
              "      <td>1048.0</td>\n",
              "      <td>0</td>\n",
              "      <td>1</td>\n",
              "      <td>0</td>\n",
              "      <td>0</td>\n",
              "      <td>1</td>\n",
              "      <td>0</td>\n",
              "      <td>0</td>\n",
              "      <td>0</td>\n",
              "      <td>0</td>\n",
              "      <td>1</td>\n",
              "      <td>1</td>\n",
              "      <td>0</td>\n",
              "      <td>0</td>\n",
              "      <td>1</td>\n",
              "      <td>0</td>\n",
              "      <td>1</td>\n",
              "      <td>0</td>\n",
              "      <td>1</td>\n",
              "      <td>0</td>\n",
              "      <td>1</td>\n",
              "      <td>0</td>\n",
              "      <td>1</td>\n",
              "    </tr>\n",
              "    <tr>\n",
              "      <th>3</th>\n",
              "      <td>3</td>\n",
              "      <td>155.0</td>\n",
              "      <td>47</td>\n",
              "      <td>180</td>\n",
              "      <td>105.0</td>\n",
              "      <td>6667.0</td>\n",
              "      <td>6.246</td>\n",
              "      <td>78439.0</td>\n",
              "      <td>100.000</td>\n",
              "      <td>2025.0</td>\n",
              "      <td>2299.0</td>\n",
              "      <td>1</td>\n",
              "      <td>0</td>\n",
              "      <td>0</td>\n",
              "      <td>0</td>\n",
              "      <td>1</td>\n",
              "      <td>0</td>\n",
              "      <td>0</td>\n",
              "      <td>1</td>\n",
              "      <td>0</td>\n",
              "      <td>0</td>\n",
              "      <td>1</td>\n",
              "      <td>0</td>\n",
              "      <td>1</td>\n",
              "      <td>0</td>\n",
              "      <td>0</td>\n",
              "      <td>1</td>\n",
              "      <td>0</td>\n",
              "      <td>1</td>\n",
              "      <td>0</td>\n",
              "      <td>0</td>\n",
              "      <td>1</td>\n",
              "      <td>1</td>\n",
              "    </tr>\n",
              "    <tr>\n",
              "      <th>4</th>\n",
              "      <td>4</td>\n",
              "      <td>305.0</td>\n",
              "      <td>37</td>\n",
              "      <td>20</td>\n",
              "      <td>71.0</td>\n",
              "      <td>6732.0</td>\n",
              "      <td>100.000</td>\n",
              "      <td>63075.0</td>\n",
              "      <td>82.200</td>\n",
              "      <td>1464.0</td>\n",
              "      <td>1847.0</td>\n",
              "      <td>1</td>\n",
              "      <td>0</td>\n",
              "      <td>0</td>\n",
              "      <td>0</td>\n",
              "      <td>1</td>\n",
              "      <td>0</td>\n",
              "      <td>0</td>\n",
              "      <td>1</td>\n",
              "      <td>0</td>\n",
              "      <td>0</td>\n",
              "      <td>1</td>\n",
              "      <td>0</td>\n",
              "      <td>0</td>\n",
              "      <td>1</td>\n",
              "      <td>0</td>\n",
              "      <td>1</td>\n",
              "      <td>0</td>\n",
              "      <td>0</td>\n",
              "      <td>1</td>\n",
              "      <td>1</td>\n",
              "      <td>0</td>\n",
              "      <td>1</td>\n",
              "    </tr>\n",
              "  </tbody>\n",
              "</table>\n",
              "</div>"
            ],
            "text/plain": [
              "   row_id  loan_amount  state_code  ...  co_applicant_0  co_applicant_1  accepted\n",
              "0       0         70.0          37  ...               1               0         1\n",
              "1       1        178.0          52  ...               1               0         0\n",
              "2       2        163.0          10  ...               1               0         1\n",
              "3       3        155.0          47  ...               0               1         1\n",
              "4       4        305.0          37  ...               1               0         1\n",
              "\n",
              "[5 rows x 33 columns]"
            ]
          },
          "metadata": {
            "tags": []
          },
          "execution_count": 80
        }
      ]
    },
    {
      "cell_type": "markdown",
      "metadata": {
        "id": "HzqXsLxHHcr8",
        "colab_type": "text"
      },
      "source": [
        "## Statistical Modeling"
      ]
    },
    {
      "cell_type": "markdown",
      "metadata": {
        "id": "NPiGqsLqqYSu",
        "colab_type": "text"
      },
      "source": [
        "Our primary strategy when modeling this problem was to try different types of models and then potentially combine them. After much tinkering, 4 main models were selected and then combined them into a voting classifier. These models were an XGBoost, Gradient Boost, Adaboost and Random Forest classifiers.\n",
        "\n",
        "As each model was built, it was evaluated with stratified k-fold cross validation over a training set and then evaluated on a validation set with the classification rate to best match the evaluator on the leaderboard."
      ]
    },
    {
      "cell_type": "code",
      "metadata": {
        "id": "CAvG96nGI3LA",
        "colab_type": "code",
        "colab": {}
      },
      "source": [
        "import numpy as np # linear algebra\n",
        "import pandas as pd # data processing, CSV file I/O (e.g. pd.read_csv)\n",
        "import xgboost as xgb\n",
        "import matplotlib.pyplot as plt\n",
        "import seaborn as sns\n",
        "sns.set()\n",
        "\n",
        "#Import models from scikit learn module:\n",
        "from sklearn.model_selection import train_test_split\n",
        "from sklearn.linear_model import LogisticRegression\n",
        "from sklearn.ensemble import AdaBoostClassifier\n",
        "from sklearn.model_selection import cross_val_score\n",
        "from sklearn.model_selection import KFold   #For K-fold cross validation\n",
        "from sklearn.model_selection import ShuffleSplit\n",
        "from sklearn.model_selection import GridSearchCV\n",
        "from sklearn.ensemble import RandomForestClassifier\n",
        "from sklearn.metrics import classification_report\n",
        "from sklearn.metrics import accuracy_score\n",
        "from sklearn.model_selection import StratifiedKFold\n",
        "from sklearn.ensemble import GradientBoostingClassifier\n",
        "from sklearn.tree import DecisionTreeClassifier, export_graphviz\n",
        "from sklearn import metrics\n",
        "from sklearn import ensemble"
      ],
      "execution_count": 0,
      "outputs": []
    },
    {
      "cell_type": "code",
      "metadata": {
        "id": "NHaR8kHgI1t-",
        "colab_type": "code",
        "outputId": "325ca080-9708-4d3b-dbe3-33c10f9a3f32",
        "colab": {
          "base_uri": "https://localhost:8080/",
          "height": 218
        }
      },
      "source": [
        "train.columns"
      ],
      "execution_count": 0,
      "outputs": [
        {
          "output_type": "execute_result",
          "data": {
            "text/plain": [
              "Index(['row_id', 'loan_amount', 'state_code', 'county_code',\n",
              "       'applicant_income', 'population', 'minority_population_pct',\n",
              "       'ffiecmedian_family_income', 'tract_to_msa_md_income_pct',\n",
              "       'number_of_owner-occupied_units', 'number_of_1_to_4_family_units',\n",
              "       'loan_type_1', 'loan_type_2', 'loan_type_3', 'loan_type_4',\n",
              "       'property_type_1', 'property_type_2', 'property_type_3',\n",
              "       'loan_purpose_1', 'loan_purpose_2', 'loan_purpose_3', 'occupancy_1',\n",
              "       'occupancy_2', 'preapproval_1', 'preapproval_2',\n",
              "       'applicant_ethnicity_1', 'applicant_ethnicity_2',\n",
              "       'applicant_ethnicity_3', 'applicant_sex_1', 'applicant_sex_2',\n",
              "       'co_applicant_0', 'co_applicant_1', 'accepted'],\n",
              "      dtype='object')"
            ]
          },
          "metadata": {
            "tags": []
          },
          "execution_count": 82
        }
      ]
    },
    {
      "cell_type": "code",
      "metadata": {
        "id": "hL8kDMEwPKgN",
        "colab_type": "code",
        "colab": {}
      },
      "source": [
        "importantcols = [x for x in train.columns if x not in ['accepted', 'row_id']]\n",
        "y = train[[\"accepted\"]]\n",
        "X = train[importantcols]"
      ],
      "execution_count": 0,
      "outputs": []
    },
    {
      "cell_type": "code",
      "metadata": {
        "id": "GMCUbtVLRHZ8",
        "colab_type": "code",
        "colab": {}
      },
      "source": [
        "#Split the dataset into train and Test\n",
        "seed = 7\n",
        "test_size = 0.3\n",
        "X_train, X_test, y_train, y_test = train_test_split(X, y, test_size=test_size, random_state=seed)"
      ],
      "execution_count": 0,
      "outputs": []
    },
    {
      "cell_type": "markdown",
      "metadata": {
        "id": "B_6j-Gum3ZNR",
        "colab_type": "text"
      },
      "source": [
        "## Models"
      ]
    },
    {
      "cell_type": "markdown",
      "metadata": {
        "id": "q6o6dXbNrlBO",
        "colab_type": "text"
      },
      "source": [
        "### XGBoost"
      ]
    },
    {
      "cell_type": "code",
      "metadata": {
        "id": "FPKfGJ-ln3Rt",
        "colab_type": "code",
        "outputId": "30a8937f-20ac-4a6d-e797-05b93f877402",
        "colab": {
          "base_uri": "https://localhost:8080/",
          "height": 190
        }
      },
      "source": [
        "i=1 \n",
        "kf = StratifiedKFold(n_splits=5,random_state=1,shuffle=True) \n",
        "for train_index,test_index in kf.split(X,y):     \n",
        "  print('\\n{} of kfold {}'.format(i,kf.n_splits))     \n",
        "  xtr,xvl = X.loc[train_index],X.loc[test_index]     \n",
        "  ytr,yvl = y.loc[train_index],y.loc[test_index]         \n",
        "  model = xgb.XGBClassifier(n_estimators=2000, max_depth=4)     \n",
        "  model.fit(xtr, ytr)     \n",
        "  pred_test = model.predict(xvl)     \n",
        "  score = accuracy_score(yvl,pred_test)     \n",
        "  print('accuracy_score',score)     \n",
        "  i+=1 \n",
        "# pred_test = model.predict(test) \n",
        "# pred3=model.predict_proba(test)[:,1]"
      ],
      "execution_count": 0,
      "outputs": [
        {
          "output_type": "stream",
          "text": [
            "\n",
            "1 of kfold 5\n"
          ],
          "name": "stdout"
        },
        {
          "output_type": "stream",
          "text": [
            "/usr/local/lib/python3.6/dist-packages/sklearn/preprocessing/label.py:219: DataConversionWarning: A column-vector y was passed when a 1d array was expected. Please change the shape of y to (n_samples, ), for example using ravel().\n",
            "  y = column_or_1d(y, warn=True)\n",
            "/usr/local/lib/python3.6/dist-packages/sklearn/preprocessing/label.py:252: DataConversionWarning: A column-vector y was passed when a 1d array was expected. Please change the shape of y to (n_samples, ), for example using ravel().\n",
            "  y = column_or_1d(y, warn=True)\n"
          ],
          "name": "stderr"
        },
        {
          "output_type": "stream",
          "text": [
            "accuracy_score 0.6809331906680933\n",
            "\n",
            "2 of kfold 5\n"
          ],
          "name": "stdout"
        }
      ]
    },
    {
      "cell_type": "code",
      "metadata": {
        "colab_type": "code",
        "id": "Kg546scUBSjW",
        "outputId": "1bf9bf6f-6f58-4b1a-822e-1c3a2c2a8e46",
        "colab": {
          "base_uri": "https://localhost:8080/",
          "height": 104
        }
      },
      "source": [
        "#Train the XGboost Model for Classification\n",
        "clf1 = xgb.XGBClassifier(n_estimators= 300)\n",
        "\n",
        "model = clf1.fit(X_train, y_train)"
      ],
      "execution_count": 0,
      "outputs": [
        {
          "output_type": "stream",
          "text": [
            "/usr/local/lib/python3.6/dist-packages/sklearn/preprocessing/label.py:219: DataConversionWarning: A column-vector y was passed when a 1d array was expected. Please change the shape of y to (n_samples, ), for example using ravel().\n",
            "  y = column_or_1d(y, warn=True)\n",
            "/usr/local/lib/python3.6/dist-packages/sklearn/preprocessing/label.py:252: DataConversionWarning: A column-vector y was passed when a 1d array was expected. Please change the shape of y to (n_samples, ), for example using ravel().\n",
            "  y = column_or_1d(y, warn=True)\n"
          ],
          "name": "stderr"
        }
      ]
    },
    {
      "cell_type": "code",
      "metadata": {
        "colab_type": "code",
        "id": "z4nNShoJBSjD",
        "outputId": "80e4c67e-d3d4-4403-af85-19a555892eaa",
        "colab": {
          "base_uri": "https://localhost:8080/",
          "height": 54
        }
      },
      "source": [
        "#prediction and Classification Report\n",
        "pred = model.predict(X_test)\n",
        "print('Model Report %r' % (classification_report(y_test, pred)))"
      ],
      "execution_count": 0,
      "outputs": [
        {
          "output_type": "stream",
          "text": [
            "Model Report '              precision    recall  f1-score   support\\n\\n           0       0.69      0.63      0.66     75044\\n           1       0.66      0.71      0.69     74956\\n\\n    accuracy                           0.67    150000\\n   macro avg       0.67      0.67      0.67    150000\\nweighted avg       0.67      0.67      0.67    150000\\n'\n"
          ],
          "name": "stdout"
        }
      ]
    },
    {
      "cell_type": "code",
      "metadata": {
        "colab_type": "code",
        "id": "2gQngGa6BSiw",
        "outputId": "6da41c8d-9718-4948-c159-f28ac1b0868b",
        "colab": {
          "base_uri": "https://localhost:8080/",
          "height": 34
        }
      },
      "source": [
        "#Let's use accuracy score\n",
        "print(\"Accuracy for model: %.2f\" % (accuracy_score(y_test, pred) * 100))"
      ],
      "execution_count": 0,
      "outputs": [
        {
          "output_type": "stream",
          "text": [
            "Accuracy for model: 67.31\n"
          ],
          "name": "stdout"
        }
      ]
    },
    {
      "cell_type": "markdown",
      "metadata": {
        "id": "D0xYCqY_sEag",
        "colab_type": "text"
      },
      "source": [
        "### Gradient Boost"
      ]
    },
    {
      "cell_type": "code",
      "metadata": {
        "id": "lTWk3_yJ8eKu",
        "colab_type": "code",
        "outputId": "17d4d67e-3f28-4093-f2f8-c97dd61a9bad",
        "colab": {
          "base_uri": "https://localhost:8080/",
          "height": 70
        }
      },
      "source": [
        "# Fit regression model\n",
        "params = {'n_estimators': 300, 'max_depth': 4, 'min_samples_split': 4,\n",
        "          'learning_rate': 0.01}\n",
        "clf = ensemble.GradientBoostingClassifier(**params)\n",
        "\n",
        "model = clf.fit(X_train, y_train)"
      ],
      "execution_count": 0,
      "outputs": [
        {
          "output_type": "stream",
          "text": [
            "/usr/local/lib/python3.6/dist-packages/sklearn/ensemble/gradient_boosting.py:1450: DataConversionWarning: A column-vector y was passed when a 1d array was expected. Please change the shape of y to (n_samples, ), for example using ravel().\n",
            "  y = column_or_1d(y, warn=True)\n"
          ],
          "name": "stderr"
        }
      ]
    },
    {
      "cell_type": "code",
      "metadata": {
        "colab_type": "code",
        "id": "l-5kKtDp83EH",
        "outputId": "df4570b9-dd32-4bb7-c6f5-a84a2323d7b6",
        "colab": {
          "base_uri": "https://localhost:8080/",
          "height": 54
        }
      },
      "source": [
        "#prediction and Classification Report\n",
        "pred = model.predict(X_test)\n",
        "print('Model Report %r' % (classification_report(y_test, pred)))"
      ],
      "execution_count": 0,
      "outputs": [
        {
          "output_type": "stream",
          "text": [
            "Model Report '              precision    recall  f1-score   support\\n\\n           0       0.68      0.63      0.65     75044\\n           1       0.65      0.70      0.67     74956\\n\\n    accuracy                           0.66    150000\\n   macro avg       0.66      0.66      0.66    150000\\nweighted avg       0.66      0.66      0.66    150000\\n'\n"
          ],
          "name": "stdout"
        }
      ]
    },
    {
      "cell_type": "code",
      "metadata": {
        "colab_type": "code",
        "id": "T6J2goyV83ER",
        "outputId": "589a1a0f-cdef-4817-d15d-e96424aea9ad",
        "colab": {
          "base_uri": "https://localhost:8080/",
          "height": 34
        }
      },
      "source": [
        "#Let's use accuracy score\n",
        "print(\"Accuracy for model: %.2f\" % (accuracy_score(y_test, pred) * 100))"
      ],
      "execution_count": 0,
      "outputs": [
        {
          "output_type": "stream",
          "text": [
            "Accuracy for model: 66.42\n"
          ],
          "name": "stdout"
        }
      ]
    },
    {
      "cell_type": "markdown",
      "metadata": {
        "id": "zoNO8a6tsl3g",
        "colab_type": "text"
      },
      "source": [
        "### Adaboost"
      ]
    },
    {
      "cell_type": "code",
      "metadata": {
        "id": "1t8IcZbcslSQ",
        "colab_type": "code",
        "outputId": "9ef4d451-8435-4dec-cdbc-20102b06c792",
        "colab": {
          "base_uri": "https://localhost:8080/",
          "height": 70
        }
      },
      "source": [
        "clf3 = AdaBoostClassifier(n_estimators=300)\n",
        "\n",
        "model = clf3.fit(X_train, y_train)"
      ],
      "execution_count": 0,
      "outputs": [
        {
          "output_type": "stream",
          "text": [
            "/usr/local/lib/python3.6/dist-packages/sklearn/utils/validation.py:724: DataConversionWarning: A column-vector y was passed when a 1d array was expected. Please change the shape of y to (n_samples, ), for example using ravel().\n",
            "  y = column_or_1d(y, warn=True)\n"
          ],
          "name": "stderr"
        }
      ]
    },
    {
      "cell_type": "code",
      "metadata": {
        "colab_type": "code",
        "id": "41IKm0QtswNj",
        "outputId": "cd96a0be-1c7d-4c5d-dd59-f110e3b13da6",
        "colab": {
          "base_uri": "https://localhost:8080/",
          "height": 54
        }
      },
      "source": [
        "#prediction and Classification Report\n",
        "pred = model.predict(X_test)\n",
        "print('Model Report %r' % (classification_report(y_test, pred)))"
      ],
      "execution_count": 0,
      "outputs": [
        {
          "output_type": "stream",
          "text": [
            "Model Report '              precision    recall  f1-score   support\\n\\n           0       0.67      0.62      0.65     75044\\n           1       0.65      0.69      0.67     74956\\n\\n    accuracy                           0.66    150000\\n   macro avg       0.66      0.66      0.66    150000\\nweighted avg       0.66      0.66      0.66    150000\\n'\n"
          ],
          "name": "stdout"
        }
      ]
    },
    {
      "cell_type": "code",
      "metadata": {
        "colab_type": "code",
        "id": "5kR-YicJswNn",
        "outputId": "94e16932-5918-45c5-a09c-be37aced57f8",
        "colab": {
          "base_uri": "https://localhost:8080/",
          "height": 34
        }
      },
      "source": [
        "#Let's use accuracy score\n",
        "print(\"Accuracy for model: %.2f\" % (accuracy_score(y_test, pred) * 100))"
      ],
      "execution_count": 0,
      "outputs": [
        {
          "output_type": "stream",
          "text": [
            "Accuracy for model: 65.92\n"
          ],
          "name": "stdout"
        }
      ]
    },
    {
      "cell_type": "markdown",
      "metadata": {
        "id": "Kk4eP87ws0ds",
        "colab_type": "text"
      },
      "source": [
        "### Random Forest"
      ]
    },
    {
      "cell_type": "code",
      "metadata": {
        "id": "yW2fEi7ZNnQ6",
        "colab_type": "code",
        "outputId": "cd52714b-5194-45a8-cc15-10e9218b8526",
        "colab": {
          "base_uri": "https://localhost:8080/",
          "height": 70
        }
      },
      "source": [
        "clf4 = RandomForestClassifier(n_estimators=300, random_state=1)\n",
        "\n",
        "model = clf4.fit(X_train, y_train)"
      ],
      "execution_count": 0,
      "outputs": [
        {
          "output_type": "stream",
          "text": [
            "/usr/local/lib/python3.6/dist-packages/ipykernel_launcher.py:3: DataConversionWarning: A column-vector y was passed when a 1d array was expected. Please change the shape of y to (n_samples,), for example using ravel().\n",
            "  This is separate from the ipykernel package so we can avoid doing imports until\n"
          ],
          "name": "stderr"
        }
      ]
    },
    {
      "cell_type": "code",
      "metadata": {
        "colab_type": "code",
        "id": "EoWn1o6_s_D3",
        "outputId": "f6757208-6a8f-4ffb-d33e-c4d9fb74386f",
        "colab": {
          "base_uri": "https://localhost:8080/",
          "height": 54
        }
      },
      "source": [
        "#prediction and Classification Report\n",
        "pred = model.predict(X_test)\n",
        "print('Model Report %r' % (classification_report(y_test, pred)))"
      ],
      "execution_count": 0,
      "outputs": [
        {
          "output_type": "stream",
          "text": [
            "Model Report '              precision    recall  f1-score   support\\n\\n           0       0.68      0.64      0.66     75044\\n           1       0.66      0.70      0.68     74956\\n\\n    accuracy                           0.67    150000\\n   macro avg       0.67      0.67      0.67    150000\\nweighted avg       0.67      0.67      0.67    150000\\n'\n"
          ],
          "name": "stdout"
        }
      ]
    },
    {
      "cell_type": "code",
      "metadata": {
        "colab_type": "code",
        "id": "o7vk1A29s_EH",
        "outputId": "21aab8af-119b-4118-83ce-be7aa701ecb2",
        "colab": {
          "base_uri": "https://localhost:8080/",
          "height": 34
        }
      },
      "source": [
        "#Let's use accuracy score\n",
        "print(\"Accuracy for model: %.2f\" % (accuracy_score(y_test, pred) * 100))"
      ],
      "execution_count": 0,
      "outputs": [
        {
          "output_type": "stream",
          "text": [
            "Accuracy for model: 67.13\n"
          ],
          "name": "stdout"
        }
      ]
    },
    {
      "cell_type": "markdown",
      "metadata": {
        "id": "VXCxHHB8ofwx",
        "colab_type": "text"
      },
      "source": [
        "### Voting Classifier Ensemble"
      ]
    },
    {
      "cell_type": "markdown",
      "metadata": {
        "id": "5mexAoZ5rVtC",
        "colab_type": "text"
      },
      "source": [
        "All 4 models where ensembled using a voting classifier, which is a meta-classifier for combining similar or conceptually different machine learning classifiers for classification via majority or plurality voting"
      ]
    },
    {
      "cell_type": "code",
      "metadata": {
        "id": "CJRbHKxRokQw",
        "colab_type": "code",
        "colab": {}
      },
      "source": [
        "from sklearn.ensemble import VotingClassifier\n",
        "\n",
        "eclf = VotingClassifier(estimators=[('xgb', clf1), ('gbc', clf2), ('abc', clf3), ('rfc', clf4)], voting='hard')\n",
        "\n",
        "for clf, label in zip([clf1, clf2, clf3, clf4, eclf], ['XGBoost', 'Gradient Boost', 'Adaboost', 'Random Forest', 'Ensemble']):\n",
        "  scores = cross_val_score(clf, X_train, y_train, cv=5, scoring='accuracy')\n",
        "  print(\"Accuracy: %0.2f (+/- %0.2f) [%s]\" % (scores.mean(), scores.std(), label))"
      ],
      "execution_count": 0,
      "outputs": []
    },
    {
      "cell_type": "code",
      "metadata": {
        "id": "QLdN8zeau6HS",
        "colab_type": "code",
        "colab": {}
      },
      "source": [
        "model = eclf.fit(X_train, y_train)"
      ],
      "execution_count": 0,
      "outputs": []
    },
    {
      "cell_type": "code",
      "metadata": {
        "colab_type": "code",
        "id": "_wiFEU00vM3H",
        "colab": {}
      },
      "source": [
        "#prediction and Classification Report\n",
        "pred = model.predict(X_test)\n",
        "print('Model Report %r' % (classification_report(y_test, pred)))"
      ],
      "execution_count": 0,
      "outputs": []
    },
    {
      "cell_type": "code",
      "metadata": {
        "colab_type": "code",
        "id": "a77MmAEYvM3J",
        "colab": {}
      },
      "source": [
        "#Let's use accuracy score\n",
        "print(\"Accuracy for model: %.2f\" % (accuracy_score(y_test, pred) * 100))"
      ],
      "execution_count": 0,
      "outputs": []
    },
    {
      "cell_type": "markdown",
      "metadata": {
        "id": "wR4xrIlis6EH",
        "colab_type": "text"
      },
      "source": [
        "## Conclusion"
      ]
    },
    {
      "cell_type": "markdown",
      "metadata": {
        "id": "n0Qiu54stBWN",
        "colab_type": "text"
      },
      "source": [
        "This data was sufficient for us to build a model with a classification rate of 0.7155, and while that's certainly better than a coin-flip our model is still quite uncertain in its predictions.\n",
        "\n",
        "Thanks for your attention in going through this report!"
      ]
    },
    {
      "cell_type": "code",
      "metadata": {
        "id": "x0CGI9HWxb8D",
        "colab_type": "code",
        "colab": {}
      },
      "source": [
        ""
      ],
      "execution_count": 0,
      "outputs": []
    }
  ]
}